{
  "nbformat": 4,
  "nbformat_minor": 0,
  "metadata": {
    "colab": {
      "name": "Madhyam1.ipynb",
      "provenance": [],
      "collapsed_sections": [
        "4sTo-tbmlX_k",
        "qUf8F1XJ40CT",
        "bnxukcJT943g",
        "E7Ge6-ExTcyv",
        "miavshuQrLZD",
        "mxaOgTo-rz0-",
        "cxN_YjcatyqM",
        "gzWLlqEmkiF5",
        "X_r8A9C6r_FJ"
      ]
    },
    "kernelspec": {
      "name": "python3",
      "display_name": "Python 3"
    }
  },
  "cells": [
    {
      "cell_type": "markdown",
      "metadata": {
        "id": "4sTo-tbmlX_k"
      },
      "source": [
        "#Python Basics"
      ]
    },
    {
      "cell_type": "code",
      "metadata": {
        "id": "CY5IEjQVy2Mj",
        "colab": {
          "base_uri": "https://localhost:8080/"
        },
        "outputId": "8b16f67d-6953-4531-8612-7d37148628c4"
      },
      "source": [
        "print('welcome to the revision class of python')"
      ],
      "execution_count": 1,
      "outputs": [
        {
          "output_type": "stream",
          "text": [
            "welcome to the revision class of python\n"
          ],
          "name": "stdout"
        }
      ]
    },
    {
      "cell_type": "code",
      "metadata": {
        "id": "LeQVY48kzdKF",
        "colab": {
          "base_uri": "https://localhost:8080/"
        },
        "outputId": "0c375c9f-838c-4631-e4aa-893c395c93af"
      },
      "source": [
        "if 6>2:\r\n",
        "  print('welcome to the revision class of python')"
      ],
      "execution_count": 2,
      "outputs": [
        {
          "output_type": "stream",
          "text": [
            "welcome to the revision class of python\n"
          ],
          "name": "stdout"
        }
      ]
    },
    {
      "cell_type": "code",
      "metadata": {
        "id": "6QB21APCzgq-",
        "colab": {
          "base_uri": "https://localhost:8080/"
        },
        "outputId": "1cad1620-ac3a-41a6-b671-3cc676cd100b"
      },
      "source": [
        "if 5>12:\r\n",
        "  print('welcome to the revision class of python')\r\n",
        "else:\r\n",
        "  print('ok')"
      ],
      "execution_count": 3,
      "outputs": [
        {
          "output_type": "stream",
          "text": [
            "ok\n"
          ],
          "name": "stdout"
        }
      ]
    },
    {
      "cell_type": "code",
      "metadata": {
        "id": "i6YVoYORzksl"
      },
      "source": [
        "x=5\r\n",
        "y='hello world'"
      ],
      "execution_count": 4,
      "outputs": []
    },
    {
      "cell_type": "code",
      "metadata": {
        "id": "TSqjMUDI0RCL",
        "colab": {
          "base_uri": "https://localhost:8080/"
        },
        "outputId": "1f026eeb-d6e4-459f-9c67-ea09efdaedc2"
      },
      "source": [
        "x"
      ],
      "execution_count": 5,
      "outputs": [
        {
          "output_type": "execute_result",
          "data": {
            "text/plain": [
              "5"
            ]
          },
          "metadata": {
            "tags": []
          },
          "execution_count": 5
        }
      ]
    },
    {
      "cell_type": "code",
      "metadata": {
        "id": "SWsFiyx30SOw",
        "colab": {
          "base_uri": "https://localhost:8080/",
          "height": 0
        },
        "outputId": "61f0f810-3b41-4a0b-886d-cffaca9fd3e6"
      },
      "source": [
        "y"
      ],
      "execution_count": 6,
      "outputs": [
        {
          "output_type": "execute_result",
          "data": {
            "application/vnd.google.colaboratory.intrinsic+json": {
              "type": "string"
            },
            "text/plain": [
              "'hello world'"
            ]
          },
          "metadata": {
            "tags": []
          },
          "execution_count": 6
        }
      ]
    },
    {
      "cell_type": "code",
      "metadata": {
        "id": "klaBGHKP0T6l",
        "colab": {
          "base_uri": "https://localhost:8080/"
        },
        "outputId": "546efc5e-4bb7-491e-a356-183c826d83a2"
      },
      "source": [
        "x=7\r\n",
        "y='hello world'\r\n",
        "print(x)\r\n",
        "print(y)"
      ],
      "execution_count": 7,
      "outputs": [
        {
          "output_type": "stream",
          "text": [
            "7\n",
            "hello world\n"
          ],
          "name": "stdout"
        }
      ]
    },
    {
      "cell_type": "code",
      "metadata": {
        "id": "VISBeMcx0bgd",
        "colab": {
          "base_uri": "https://localhost:8080/"
        },
        "outputId": "acf1b17a-5e77-4bf2-bfe9-bc884ea82024"
      },
      "source": [
        "x=b\"hello\"\r\n",
        "print(type(x))\r\n",
        "print(x)"
      ],
      "execution_count": 8,
      "outputs": [
        {
          "output_type": "stream",
          "text": [
            "<class 'bytes'>\n",
            "b'hello'\n"
          ],
          "name": "stdout"
        }
      ]
    },
    {
      "cell_type": "code",
      "metadata": {
        "id": "4qrHdaNq1e08",
        "colab": {
          "base_uri": "https://localhost:8080/"
        },
        "outputId": "2fa3bb45-8ed1-479f-b8e1-23edb112e17b"
      },
      "source": [
        "x=bytearray(4)\r\n",
        "print(x)"
      ],
      "execution_count": 9,
      "outputs": [
        {
          "output_type": "stream",
          "text": [
            "bytearray(b'\\x00\\x00\\x00\\x00')\n"
          ],
          "name": "stdout"
        }
      ]
    },
    {
      "cell_type": "code",
      "metadata": {
        "id": "uEwo8RRh1nXm"
      },
      "source": [
        "#python numbers\r\n",
        "x=1   #int\r\n",
        "y=6.9 #float\r\n",
        "z=6j  #complex"
      ],
      "execution_count": 10,
      "outputs": []
    },
    {
      "cell_type": "code",
      "metadata": {
        "id": "C_yy3fVk2qPX",
        "colab": {
          "base_uri": "https://localhost:8080/"
        },
        "outputId": "b4ff38d3-9a4b-47f0-cccc-9d283188cb11"
      },
      "source": [
        "x"
      ],
      "execution_count": 11,
      "outputs": [
        {
          "output_type": "execute_result",
          "data": {
            "text/plain": [
              "1"
            ]
          },
          "metadata": {
            "tags": []
          },
          "execution_count": 11
        }
      ]
    },
    {
      "cell_type": "code",
      "metadata": {
        "id": "JYzoizly2rz-",
        "colab": {
          "base_uri": "https://localhost:8080/"
        },
        "outputId": "358c8f96-657f-4f61-fcaf-d681ea8edc69"
      },
      "source": [
        "y"
      ],
      "execution_count": 12,
      "outputs": [
        {
          "output_type": "execute_result",
          "data": {
            "text/plain": [
              "6.9"
            ]
          },
          "metadata": {
            "tags": []
          },
          "execution_count": 12
        }
      ]
    },
    {
      "cell_type": "code",
      "metadata": {
        "id": "CRNxL-Gj2u5g",
        "colab": {
          "base_uri": "https://localhost:8080/"
        },
        "outputId": "cc40c9c2-a9e3-43ae-f37f-881ff2f1778a"
      },
      "source": [
        "z"
      ],
      "execution_count": 13,
      "outputs": [
        {
          "output_type": "execute_result",
          "data": {
            "text/plain": [
              "6j"
            ]
          },
          "metadata": {
            "tags": []
          },
          "execution_count": 13
        }
      ]
    },
    {
      "cell_type": "code",
      "metadata": {
        "id": "eN6-paZh2xl-",
        "colab": {
          "base_uri": "https://localhost:8080/"
        },
        "outputId": "2ce13e6c-b807-4746-9925-5e51b119d4d6"
      },
      "source": [
        "print(x)\r\n",
        "print(type(x))"
      ],
      "execution_count": 14,
      "outputs": [
        {
          "output_type": "stream",
          "text": [
            "1\n",
            "<class 'int'>\n"
          ],
          "name": "stdout"
        }
      ]
    },
    {
      "cell_type": "code",
      "metadata": {
        "id": "AyubUFph26Ub",
        "colab": {
          "base_uri": "https://localhost:8080/"
        },
        "outputId": "c85d41e9-b9cd-4257-cdc8-1f3ecbb682be"
      },
      "source": [
        "print(y)\r\n",
        "print(type(y))"
      ],
      "execution_count": 15,
      "outputs": [
        {
          "output_type": "stream",
          "text": [
            "6.9\n",
            "<class 'float'>\n"
          ],
          "name": "stdout"
        }
      ]
    },
    {
      "cell_type": "code",
      "metadata": {
        "id": "60ZWlyhR3SD4",
        "colab": {
          "base_uri": "https://localhost:8080/"
        },
        "outputId": "7291ee03-fc1d-46e1-8444-334576bc2a99"
      },
      "source": [
        "print(z)\r\n",
        "print(type(z))"
      ],
      "execution_count": 16,
      "outputs": [
        {
          "output_type": "stream",
          "text": [
            "6j\n",
            "<class 'complex'>\n"
          ],
          "name": "stdout"
        }
      ]
    },
    {
      "cell_type": "code",
      "metadata": {
        "id": "eOwI0scZ3TLQ",
        "colab": {
          "base_uri": "https://localhost:8080/"
        },
        "outputId": "9f975c73-5f44-493b-976f-2730f883b6bd"
      },
      "source": [
        "x=int(8)\r\n",
        "y=int(9.8)\r\n",
        "z=int(\"3\")\r\n",
        "print(x)\r\n",
        "print(y)\r\n",
        "print(z)"
      ],
      "execution_count": 17,
      "outputs": [
        {
          "output_type": "stream",
          "text": [
            "8\n",
            "9\n",
            "3\n"
          ],
          "name": "stdout"
        }
      ]
    },
    {
      "cell_type": "code",
      "metadata": {
        "id": "dTh5lz5m32I7",
        "colab": {
          "base_uri": "https://localhost:8080/"
        },
        "outputId": "9f0260c4-674d-4b90-bb14-877b8ab7fa2a"
      },
      "source": [
        "x=str(8)\r\n",
        "y=str(9.8)\r\n",
        "z=str(\"3\")\r\n",
        "print(x)\r\n",
        "print(y)\r\n",
        "print(z)\r\n",
        "print(type(x))\r\n",
        "print(type(y))\r\n",
        "print(type(z))"
      ],
      "execution_count": 18,
      "outputs": [
        {
          "output_type": "stream",
          "text": [
            "8\n",
            "9.8\n",
            "3\n",
            "<class 'str'>\n",
            "<class 'str'>\n",
            "<class 'str'>\n"
          ],
          "name": "stdout"
        }
      ]
    },
    {
      "cell_type": "code",
      "metadata": {
        "id": "2Bu47zR_35fT",
        "colab": {
          "base_uri": "https://localhost:8080/"
        },
        "outputId": "d16296f5-fa94-46a1-8838-32819ab4defa"
      },
      "source": [
        "a=\"\"\" aditya has a doubt,\r\n",
        "which is regarding scan,\r\n",
        "we need to adress,\r\n",
        "the topic.\"\"\"\r\n",
        "print(a)"
      ],
      "execution_count": 19,
      "outputs": [
        {
          "output_type": "stream",
          "text": [
            " aditya has a doubt,\n",
            "which is regarding scan,\n",
            "we need to adress,\n",
            "the topic.\n"
          ],
          "name": "stdout"
        }
      ]
    },
    {
      "cell_type": "code",
      "metadata": {
        "id": "4AwSTLI04vgv",
        "colab": {
          "base_uri": "https://localhost:8080/"
        },
        "outputId": "93264a45-936f-4c14-a740-6fa6014c0327"
      },
      "source": [
        "print(10>9)\r\n",
        "print(10==9)\r\n",
        "print(10<9)"
      ],
      "execution_count": 20,
      "outputs": [
        {
          "output_type": "stream",
          "text": [
            "True\n",
            "False\n",
            "False\n"
          ],
          "name": "stdout"
        }
      ]
    },
    {
      "cell_type": "markdown",
      "metadata": {
        "id": "qUf8F1XJ40CT"
      },
      "source": [
        "#Lists"
      ]
    },
    {
      "cell_type": "code",
      "metadata": {
        "id": "3H6-MGZ_zjks",
        "colab": {
          "base_uri": "https://localhost:8080/"
        },
        "outputId": "33481dad-bed1-4f96-e767-419f2f34d1db"
      },
      "source": [
        "thisislist=['apple','banana','grapes']\n",
        "thisislist"
      ],
      "execution_count": 21,
      "outputs": [
        {
          "output_type": "execute_result",
          "data": {
            "text/plain": [
              "['apple', 'banana', 'grapes']"
            ]
          },
          "metadata": {
            "tags": []
          },
          "execution_count": 21
        }
      ]
    },
    {
      "cell_type": "code",
      "metadata": {
        "id": "hriCEiOf1eav",
        "colab": {
          "base_uri": "https://localhost:8080/"
        },
        "outputId": "b461d6f0-6098-4f26-de4d-aff3d990aa80"
      },
      "source": [
        "type(thisislist)"
      ],
      "execution_count": 22,
      "outputs": [
        {
          "output_type": "execute_result",
          "data": {
            "text/plain": [
              "list"
            ]
          },
          "metadata": {
            "tags": []
          },
          "execution_count": 22
        }
      ]
    },
    {
      "cell_type": "code",
      "metadata": {
        "id": "4lNNMCN81lcz",
        "colab": {
          "base_uri": "https://localhost:8080/"
        },
        "outputId": "4bc30b1f-adcd-4bb5-e7dc-fc3cfc3b3efe"
      },
      "source": [
        "thisislist=['apple','banana','grapes','apple1','banana1','grapes1']\n",
        "print(thisislist)"
      ],
      "execution_count": 23,
      "outputs": [
        {
          "output_type": "stream",
          "text": [
            "['apple', 'banana', 'grapes', 'apple1', 'banana1', 'grapes1']\n"
          ],
          "name": "stdout"
        }
      ]
    },
    {
      "cell_type": "code",
      "metadata": {
        "id": "d_DTouhI15Ih",
        "colab": {
          "base_uri": "https://localhost:8080/"
        },
        "outputId": "75ebcee7-f365-4877-fb9d-347fa6e67aa8"
      },
      "source": [
        "thisislist=['apple','banana','grapes','apple1','banana1','grapes1']\n",
        "print(thisislist[1])"
      ],
      "execution_count": 24,
      "outputs": [
        {
          "output_type": "stream",
          "text": [
            "banana\n"
          ],
          "name": "stdout"
        }
      ]
    },
    {
      "cell_type": "code",
      "metadata": {
        "id": "w7_FdFLX1_yj",
        "colab": {
          "base_uri": "https://localhost:8080/"
        },
        "outputId": "785a8bf3-a42a-4971-9c67-8e8e35ff1791"
      },
      "source": [
        "thisislist=['apple','banana','grapes','apple1','banana1','grapes1']\n",
        "print(thisislist[0:4])"
      ],
      "execution_count": 25,
      "outputs": [
        {
          "output_type": "stream",
          "text": [
            "['apple', 'banana', 'grapes', 'apple1']\n"
          ],
          "name": "stdout"
        }
      ]
    },
    {
      "cell_type": "code",
      "metadata": {
        "id": "acRJyE_q2LJo",
        "colab": {
          "base_uri": "https://localhost:8080/"
        },
        "outputId": "ec8aab68-aeed-4d57-ebc0-eb31d3c24dd9"
      },
      "source": [
        "thisislist=['apple','banana','grapes','apple1','banana1','grapes1']\n",
        "print(thisislist[:4])"
      ],
      "execution_count": 26,
      "outputs": [
        {
          "output_type": "stream",
          "text": [
            "['apple', 'banana', 'grapes', 'apple1']\n"
          ],
          "name": "stdout"
        }
      ]
    },
    {
      "cell_type": "code",
      "metadata": {
        "id": "obfUFWx82gAF",
        "colab": {
          "base_uri": "https://localhost:8080/"
        },
        "outputId": "89b06086-d751-48fc-b1e9-89b4415c2d60"
      },
      "source": [
        "thisislist=['apple','banana','grapes','apple1','banana1','grapes1']\n",
        "print(thisislist[2:])"
      ],
      "execution_count": 27,
      "outputs": [
        {
          "output_type": "stream",
          "text": [
            "['grapes', 'apple1', 'banana1', 'grapes1']\n"
          ],
          "name": "stdout"
        }
      ]
    },
    {
      "cell_type": "code",
      "metadata": {
        "id": "2onCMRUV2imX",
        "colab": {
          "base_uri": "https://localhost:8080/"
        },
        "outputId": "3f27b50f-9b3b-4167-8e81-fc39792d0ed2"
      },
      "source": [
        "thisislist=['apple','banana','grapes','apple1','banana1','grapes1']\n",
        "thisislist[1]='bingo'\n",
        "print(thisislist)"
      ],
      "execution_count": 28,
      "outputs": [
        {
          "output_type": "stream",
          "text": [
            "['apple', 'bingo', 'grapes', 'apple1', 'banana1', 'grapes1']\n"
          ],
          "name": "stdout"
        }
      ]
    },
    {
      "cell_type": "code",
      "metadata": {
        "id": "cKGghBuH3Vd_",
        "colab": {
          "base_uri": "https://localhost:8080/"
        },
        "outputId": "05336e9a-f857-4265-f448-21decbdbd8a8"
      },
      "source": [
        "thisislist=['apple','banana','grapes','apple1','banana1','grapes1']\n",
        "thisislist[1]=['bingo','mango']\n",
        "print(thisislist)"
      ],
      "execution_count": 29,
      "outputs": [
        {
          "output_type": "stream",
          "text": [
            "['apple', ['bingo', 'mango'], 'grapes', 'apple1', 'banana1', 'grapes1']\n"
          ],
          "name": "stdout"
        }
      ]
    },
    {
      "cell_type": "code",
      "metadata": {
        "id": "wRtuHVmw3kAL",
        "colab": {
          "base_uri": "https://localhost:8080/"
        },
        "outputId": "5c232973-f476-4f1b-8000-5733db546113"
      },
      "source": [
        "thisislist=['apple','banana','grapes','apple1','banana1','grapes1']\n",
        "thisislist.append('orange')\n",
        "print(thisislist)"
      ],
      "execution_count": 30,
      "outputs": [
        {
          "output_type": "stream",
          "text": [
            "['apple', 'banana', 'grapes', 'apple1', 'banana1', 'grapes1', 'orange']\n"
          ],
          "name": "stdout"
        }
      ]
    },
    {
      "cell_type": "code",
      "metadata": {
        "id": "DuFRvu6H6Aj9",
        "colab": {
          "base_uri": "https://localhost:8080/"
        },
        "outputId": "4722ab8a-3de8-4706-e99e-d6b5df694d26"
      },
      "source": [
        "thisislist=['apple','banana','grapes','apple1','banana1','grapes1']\n",
        "thisislist.insert(2,'orange')\n",
        "print(thisislist)"
      ],
      "execution_count": 31,
      "outputs": [
        {
          "output_type": "stream",
          "text": [
            "['apple', 'banana', 'orange', 'grapes', 'apple1', 'banana1', 'grapes1']\n"
          ],
          "name": "stdout"
        }
      ]
    },
    {
      "cell_type": "code",
      "metadata": {
        "id": "jKs2lwpZ6TwN",
        "colab": {
          "base_uri": "https://localhost:8080/"
        },
        "outputId": "6ef4a74b-e0f9-4024-8d33-b1d3fec26e3e"
      },
      "source": [
        "thisislist=['apple','banana','grapes','apple1','banana1','grapes1']\n",
        "tropical=['mango','pineapple','papaya','mango1','pineapple1','papaya1']\n",
        "thisislist.extend(tropical)\n",
        "print(thisislist)"
      ],
      "execution_count": 32,
      "outputs": [
        {
          "output_type": "stream",
          "text": [
            "['apple', 'banana', 'grapes', 'apple1', 'banana1', 'grapes1', 'mango', 'pineapple', 'papaya', 'mango1', 'pineapple1', 'papaya1']\n"
          ],
          "name": "stdout"
        }
      ]
    },
    {
      "cell_type": "code",
      "metadata": {
        "id": "SlKT8UtR62kT",
        "colab": {
          "base_uri": "https://localhost:8080/"
        },
        "outputId": "186a128e-d22e-44e5-bbf2-f2c3d7922229"
      },
      "source": [
        "thisislist=['apple','banana','grapes','apple1','banana1','grapes1']\n",
        "thisistuple=('mango','pineapple','papaya','mango1','pineapple1','papaya1')\n",
        "thisislist.extend(thisistuple)\n",
        "print(thisislist)"
      ],
      "execution_count": 33,
      "outputs": [
        {
          "output_type": "stream",
          "text": [
            "['apple', 'banana', 'grapes', 'apple1', 'banana1', 'grapes1', 'mango', 'pineapple', 'papaya', 'mango1', 'pineapple1', 'papaya1']\n"
          ],
          "name": "stdout"
        }
      ]
    },
    {
      "cell_type": "code",
      "metadata": {
        "id": "QpWFPfAH7W7_",
        "colab": {
          "base_uri": "https://localhost:8080/"
        },
        "outputId": "defe5105-802a-4cd3-b866-12f058cda8cb"
      },
      "source": [
        "thisislist=['apple','banana','grapes','apple1','banana1','grapes1']\n",
        "tropical=['mango','pineapple','papaya','mango1','pineapple1','papaya1']\n",
        "thisislist.remove('apple1')\n",
        "print(thisislist)"
      ],
      "execution_count": 34,
      "outputs": [
        {
          "output_type": "stream",
          "text": [
            "['apple', 'banana', 'grapes', 'banana1', 'grapes1']\n"
          ],
          "name": "stdout"
        }
      ]
    },
    {
      "cell_type": "code",
      "metadata": {
        "id": "vs1c9W-w7pYc",
        "colab": {
          "base_uri": "https://localhost:8080/"
        },
        "outputId": "f20f2777-eff4-44ab-e457-af120e8b2c8b"
      },
      "source": [
        "thisislist=['apple','banana','grapes','apple1','banana1','grapes1']\n",
        "tropical=['mango','pineapple','papaya','mango1','pineapple1','papaya1']\n",
        "thisislist.pop(0)\n",
        "print(thisislist)"
      ],
      "execution_count": 35,
      "outputs": [
        {
          "output_type": "stream",
          "text": [
            "['banana', 'grapes', 'apple1', 'banana1', 'grapes1']\n"
          ],
          "name": "stdout"
        }
      ]
    },
    {
      "cell_type": "code",
      "metadata": {
        "id": "qzyosIsa8EtY"
      },
      "source": [
        "thisislist=['apple','banana','grapes','apple1','banana1','grapes1']\n",
        "tropical=['mango','pineapple','papaya','mango1','pineapple1','papaya1']\n",
        "del thisislist #thisislist gets deleted"
      ],
      "execution_count": 36,
      "outputs": []
    },
    {
      "cell_type": "code",
      "metadata": {
        "id": "h_P4aWHw8QjE",
        "colab": {
          "base_uri": "https://localhost:8080/"
        },
        "outputId": "f2b42ed1-c636-453f-c8cb-06ac5e4439e2"
      },
      "source": [
        "thisislist=['apple','banana','grapes','apple1','banana1','grapes1']\n",
        "tropical=['mango','pineapple','papaya','mango1','pineapple1','papaya1']\n",
        "thisislist.clear()\n",
        "print(thisislist)"
      ],
      "execution_count": 37,
      "outputs": [
        {
          "output_type": "stream",
          "text": [
            "[]\n"
          ],
          "name": "stdout"
        }
      ]
    },
    {
      "cell_type": "markdown",
      "metadata": {
        "id": "vDdaYrPdGyUd"
      },
      "source": [
        "##loops through list"
      ]
    },
    {
      "cell_type": "code",
      "metadata": {
        "id": "bnQehNL08tdb",
        "colab": {
          "base_uri": "https://localhost:8080/"
        },
        "outputId": "f90b5bf6-5397-41c5-90c1-0c7aaf00f888"
      },
      "source": [
        "thisislist=['apple','banana','grapes','apple1','banana1','grapes1']\n",
        "for x in thisislist:\n",
        "  print(x)"
      ],
      "execution_count": 38,
      "outputs": [
        {
          "output_type": "stream",
          "text": [
            "apple\n",
            "banana\n",
            "grapes\n",
            "apple1\n",
            "banana1\n",
            "grapes1\n"
          ],
          "name": "stdout"
        }
      ]
    },
    {
      "cell_type": "code",
      "metadata": {
        "id": "f9FSyreR9gmQ",
        "colab": {
          "base_uri": "https://localhost:8080/"
        },
        "outputId": "059d907d-2fb2-453c-c31a-78e45063e32e"
      },
      "source": [
        "thisislist=['apple','banana','grapes','apple1','banana1','grapes1']\n",
        "i=0\n",
        "while i<len(thisislist):\n",
        " print(thisislist[i])\n",
        " i+=1"
      ],
      "execution_count": 39,
      "outputs": [
        {
          "output_type": "stream",
          "text": [
            "apple\n",
            "banana\n",
            "grapes\n",
            "apple1\n",
            "banana1\n",
            "grapes1\n"
          ],
          "name": "stdout"
        }
      ]
    },
    {
      "cell_type": "code",
      "metadata": {
        "id": "namElGka_GKf",
        "colab": {
          "base_uri": "https://localhost:8080/"
        },
        "outputId": "f0fe5376-adee-4b26-dccb-edfef495279a"
      },
      "source": [
        "thislist=['apple','banana','cherry']\n",
        "[print (x) for x in thislist]"
      ],
      "execution_count": 40,
      "outputs": [
        {
          "output_type": "stream",
          "text": [
            "apple\n",
            "banana\n",
            "cherry\n"
          ],
          "name": "stdout"
        },
        {
          "output_type": "execute_result",
          "data": {
            "text/plain": [
              "[None, None, None]"
            ]
          },
          "metadata": {
            "tags": []
          },
          "execution_count": 40
        }
      ]
    },
    {
      "cell_type": "code",
      "metadata": {
        "id": "UP1n8RDW_zvU",
        "colab": {
          "base_uri": "https://localhost:8080/"
        },
        "outputId": "84d21cb7-daa1-4f94-b3bb-020557579c3d"
      },
      "source": [
        "fruits=['apple','banana','cherry','kiwi','mango']\n",
        "newlist=[]\n",
        "for x in fruits:\n",
        "    if 'a' in x:\n",
        "     newlist.append(x)\n",
        "print(newlist)\n"
      ],
      "execution_count": 41,
      "outputs": [
        {
          "output_type": "stream",
          "text": [
            "['apple', 'banana', 'mango']\n"
          ],
          "name": "stdout"
        }
      ]
    },
    {
      "cell_type": "code",
      "metadata": {
        "id": "arq6Dg2zBtyD",
        "colab": {
          "base_uri": "https://localhost:8080/"
        },
        "outputId": "bcdf0545-794c-4098-dcfd-9b77e70f7601"
      },
      "source": [
        "fruits=['apple','banana','cherry','kiwi','mango']\n",
        "newlist=[x for x in fruits if 'a' in x]\n",
        "print(newlist)"
      ],
      "execution_count": 42,
      "outputs": [
        {
          "output_type": "stream",
          "text": [
            "['apple', 'banana', 'mango']\n"
          ],
          "name": "stdout"
        }
      ]
    },
    {
      "cell_type": "code",
      "metadata": {
        "id": "4nbSe5pvCe3R",
        "colab": {
          "base_uri": "https://localhost:8080/"
        },
        "outputId": "3131ad85-255d-4575-8bc0-3a2812d70414"
      },
      "source": [
        "fruits=['apple','banana','cherry','kiwi','mango']\n",
        "fruits.sort()\n",
        "print(fruits)"
      ],
      "execution_count": 43,
      "outputs": [
        {
          "output_type": "stream",
          "text": [
            "['apple', 'banana', 'cherry', 'kiwi', 'mango']\n"
          ],
          "name": "stdout"
        }
      ]
    },
    {
      "cell_type": "code",
      "metadata": {
        "id": "2D1Z5J0Y3_Nq",
        "colab": {
          "base_uri": "https://localhost:8080/"
        },
        "outputId": "d4976b65-f6fe-4a46-f60d-fb4c9cfb0693"
      },
      "source": [
        "thislist=[\"orange\",\"mango\",\"kiwi\",\"pineapple\",\"banana\"]\n",
        "thislist.sort()\n",
        "print(thislist)"
      ],
      "execution_count": 44,
      "outputs": [
        {
          "output_type": "stream",
          "text": [
            "['banana', 'kiwi', 'mango', 'orange', 'pineapple']\n"
          ],
          "name": "stdout"
        }
      ]
    },
    {
      "cell_type": "code",
      "metadata": {
        "id": "KHsQd7Uj4jrJ",
        "colab": {
          "base_uri": "https://localhost:8080/"
        },
        "outputId": "0842d0ad-c639-4f90-b742-5c05b91f3bd0"
      },
      "source": [
        "thislist=[100,40,50,2,22,83,78]\n",
        "thislist.sort()\n",
        "print(thislist)"
      ],
      "execution_count": 45,
      "outputs": [
        {
          "output_type": "stream",
          "text": [
            "[2, 22, 40, 50, 78, 83, 100]\n"
          ],
          "name": "stdout"
        }
      ]
    },
    {
      "cell_type": "code",
      "metadata": {
        "id": "GoLJI8Er5JtI",
        "colab": {
          "base_uri": "https://localhost:8080/"
        },
        "outputId": "fd4f3be4-7258-4c7e-fcd6-e763c2f7afc8"
      },
      "source": [
        "thislist=[\"orange\",\"mango\",\"kiwi\",\"pineapple\",\"banana\"]\n",
        "thislist.sort(reverse=True)\n",
        "print(thislist)"
      ],
      "execution_count": 46,
      "outputs": [
        {
          "output_type": "stream",
          "text": [
            "['pineapple', 'orange', 'mango', 'kiwi', 'banana']\n"
          ],
          "name": "stdout"
        }
      ]
    },
    {
      "cell_type": "code",
      "metadata": {
        "id": "CMBNPJsZ5VbG",
        "colab": {
          "base_uri": "https://localhost:8080/"
        },
        "outputId": "e0343504-e66d-4674-c2cd-af2cc3423914"
      },
      "source": [
        "thislist=[100,40,50,2,22,83,78]\n",
        "thislist.sort(reverse=True)\n",
        "print(thislist)"
      ],
      "execution_count": 47,
      "outputs": [
        {
          "output_type": "stream",
          "text": [
            "[100, 83, 78, 50, 40, 22, 2]\n"
          ],
          "name": "stdout"
        }
      ]
    },
    {
      "cell_type": "code",
      "metadata": {
        "id": "lmZGRdxr5dlU",
        "colab": {
          "base_uri": "https://localhost:8080/"
        },
        "outputId": "3c9c46f9-c550-4799-fba0-21afe832b6ea"
      },
      "source": [
        "thislist=[\"orange\",\"mango\",\"kiwi\",\"pineapple\",\"banana\"]\n",
        "newlist=thislist.copy()\n",
        "print(newlist)"
      ],
      "execution_count": 48,
      "outputs": [
        {
          "output_type": "stream",
          "text": [
            "['orange', 'mango', 'kiwi', 'pineapple', 'banana']\n"
          ],
          "name": "stdout"
        }
      ]
    },
    {
      "cell_type": "code",
      "metadata": {
        "id": "QVg-eddl5-Ew",
        "colab": {
          "base_uri": "https://localhost:8080/"
        },
        "outputId": "d15c290b-7c60-4ef9-96d6-35217e6c3a43"
      },
      "source": [
        "thislist=[100,40,50,2,22,83,78]\n",
        "newlist=thislist.copy()\n",
        "print(newlist)"
      ],
      "execution_count": 49,
      "outputs": [
        {
          "output_type": "stream",
          "text": [
            "[100, 40, 50, 2, 22, 83, 78]\n"
          ],
          "name": "stdout"
        }
      ]
    },
    {
      "cell_type": "code",
      "metadata": {
        "id": "IdT6B4aQ6KC6",
        "colab": {
          "base_uri": "https://localhost:8080/"
        },
        "outputId": "2b008748-8de2-4256-f6bd-d5efe943e943"
      },
      "source": [
        "thislist1=[\"orange\",\"mango\",\"kiwi\",\"pineapple\",\"banana\"]\n",
        "thislist2=[100,40,50,2,22,83,78]\n",
        "list3=thislist1+thislist2\n",
        "print(list3)"
      ],
      "execution_count": 50,
      "outputs": [
        {
          "output_type": "stream",
          "text": [
            "['orange', 'mango', 'kiwi', 'pineapple', 'banana', 100, 40, 50, 2, 22, 83, 78]\n"
          ],
          "name": "stdout"
        }
      ]
    },
    {
      "cell_type": "code",
      "metadata": {
        "id": "2Euh6qUN6c2u",
        "colab": {
          "base_uri": "https://localhost:8080/"
        },
        "outputId": "1571057f-7174-42fd-e74f-03737e463465"
      },
      "source": [
        "thislist1=[\"orange\",\"mango\",\"kiwi\",\"pineapple\",\"banana\"]\n",
        "thislist2=[100,40,50,2,22,83,78]\n",
        "for x in thislist2:\n",
        " thislist1.append(x)\n",
        "print(thislist1)"
      ],
      "execution_count": 51,
      "outputs": [
        {
          "output_type": "stream",
          "text": [
            "['orange', 'mango', 'kiwi', 'pineapple', 'banana', 100, 40, 50, 2, 22, 83, 78]\n"
          ],
          "name": "stdout"
        }
      ]
    },
    {
      "cell_type": "code",
      "metadata": {
        "id": "QuRnfR7B7Jfu",
        "colab": {
          "base_uri": "https://localhost:8080/"
        },
        "outputId": "b0a4d044-1948-4959-fd0f-6d782c64f5a7"
      },
      "source": [
        "thislist1=[\"orange\",\"mango\",\"kiwi\",\"pineapple\",\"banana\"]\n",
        "thislist2=[100,40,50,2,22,83,78]\n",
        "thislist1.extend(thislist2)\n",
        "print(thislist1)"
      ],
      "execution_count": 52,
      "outputs": [
        {
          "output_type": "stream",
          "text": [
            "['orange', 'mango', 'kiwi', 'pineapple', 'banana', 100, 40, 50, 2, 22, 83, 78]\n"
          ],
          "name": "stdout"
        }
      ]
    },
    {
      "cell_type": "code",
      "metadata": {
        "id": "Xmvi92Z179eR",
        "colab": {
          "base_uri": "https://localhost:8080/"
        },
        "outputId": "f9402a1d-a817-483f-eda0-127344b42192"
      },
      "source": [
        "l=['k','a','r','u','n']\n",
        "p=['n','a','y','a','r']\n",
        "l.extend(p)\n",
        "print(l)"
      ],
      "execution_count": 53,
      "outputs": [
        {
          "output_type": "stream",
          "text": [
            "['k', 'a', 'r', 'u', 'n', 'n', 'a', 'y', 'a', 'r']\n"
          ],
          "name": "stdout"
        }
      ]
    },
    {
      "cell_type": "code",
      "metadata": {
        "id": "qSYC-nkj8bEl",
        "colab": {
          "base_uri": "https://localhost:8080/"
        },
        "outputId": "6581abc9-f707-4789-c550-4bb20c814621"
      },
      "source": [
        "l=['k','a','r','u','n']\n",
        "p=['n','a','y','a','r']\n",
        "o=l+p\n",
        "print(o)"
      ],
      "execution_count": 54,
      "outputs": [
        {
          "output_type": "stream",
          "text": [
            "['k', 'a', 'r', 'u', 'n', 'n', 'a', 'y', 'a', 'r']\n"
          ],
          "name": "stdout"
        }
      ]
    },
    {
      "cell_type": "code",
      "metadata": {
        "id": "fLKjw3UT8i_I",
        "colab": {
          "base_uri": "https://localhost:8080/"
        },
        "outputId": "d730c4c4-31f1-4339-8a53-e6b371380b85"
      },
      "source": [
        "l=['k','a','r','u','n']\n",
        "print(l)"
      ],
      "execution_count": 55,
      "outputs": [
        {
          "output_type": "stream",
          "text": [
            "['k', 'a', 'r', 'u', 'n']\n"
          ],
          "name": "stdout"
        }
      ]
    },
    {
      "cell_type": "markdown",
      "metadata": {
        "id": "bnxukcJT943g"
      },
      "source": [
        "#Tuple:\n",
        "are used to store multiple items in a single variable\n"
      ]
    },
    {
      "cell_type": "markdown",
      "metadata": {
        "id": "-mrO4bxN-OQu"
      },
      "source": [
        "list-tuple:tuple is unchangable unlike list, tuple is created by using parantheses"
      ]
    },
    {
      "cell_type": "code",
      "metadata": {
        "id": "WGgNaDT39mQ3",
        "colab": {
          "base_uri": "https://localhost:8080/"
        },
        "outputId": "8b55230e-613d-4dae-d012-9389a4ee20b2"
      },
      "source": [
        "thisistuple=('cherry','banana','apple')\n",
        "print(thisistuple)"
      ],
      "execution_count": 56,
      "outputs": [
        {
          "output_type": "stream",
          "text": [
            "('cherry', 'banana', 'apple')\n"
          ],
          "name": "stdout"
        }
      ]
    },
    {
      "cell_type": "code",
      "metadata": {
        "id": "7OqAmN-G-u-e",
        "colab": {
          "base_uri": "https://localhost:8080/"
        },
        "outputId": "a10e269e-5e48-4791-b102-fccf14567330"
      },
      "source": [
        "thisistuple=('cherry','banana','apple','cherry','banana','apple')\n",
        "print(thisistuple)"
      ],
      "execution_count": 57,
      "outputs": [
        {
          "output_type": "stream",
          "text": [
            "('cherry', 'banana', 'apple', 'cherry', 'banana', 'apple')\n"
          ],
          "name": "stdout"
        }
      ]
    },
    {
      "cell_type": "code",
      "metadata": {
        "id": "sEeCdv2m-4uB",
        "colab": {
          "base_uri": "https://localhost:8080/"
        },
        "outputId": "7f9eb5d0-6bcf-47c0-eba4-3225973faf87"
      },
      "source": [
        "thisistuple=('cherry','banana','apple','cherry','banana','apple')\n",
        "print(len(thisistuple))"
      ],
      "execution_count": 58,
      "outputs": [
        {
          "output_type": "stream",
          "text": [
            "6\n"
          ],
          "name": "stdout"
        }
      ]
    },
    {
      "cell_type": "code",
      "metadata": {
        "id": "jSMW0lzS_ArG",
        "colab": {
          "base_uri": "https://localhost:8080/"
        },
        "outputId": "fbe8073f-ed81-4ca8-be78-6dd9af5de036"
      },
      "source": [
        "tuple1=(\"orange\",\"mango\",\"kiwi\",\"pineapple\",\"banana\")\n",
        "tuple2=(100,40,50,2,22,83,78)\n",
        "tuple3=(True,False,False)\n",
        "print(tuple1)\n",
        "print(tuple2)\n",
        "print(tuple3)"
      ],
      "execution_count": 59,
      "outputs": [
        {
          "output_type": "stream",
          "text": [
            "('orange', 'mango', 'kiwi', 'pineapple', 'banana')\n",
            "(100, 40, 50, 2, 22, 83, 78)\n",
            "(True, False, False)\n"
          ],
          "name": "stdout"
        }
      ]
    },
    {
      "cell_type": "code",
      "metadata": {
        "id": "PjtyX_MZ_p5n",
        "colab": {
          "base_uri": "https://localhost:8080/"
        },
        "outputId": "66114161-6aa4-41b0-a38f-41a37a03caf6"
      },
      "source": [
        "tuple1=(\"orange\",3,True,\"pineapple\",\"banana\")\n",
        "tuple2=(100,40,50,2,22,83,78)\n",
        "tuple3=(True,False,False)\n",
        "print(tuple1)\n",
        "print(type(tuple1))\n"
      ],
      "execution_count": 60,
      "outputs": [
        {
          "output_type": "stream",
          "text": [
            "('orange', 3, True, 'pineapple', 'banana')\n",
            "<class 'tuple'>\n"
          ],
          "name": "stdout"
        }
      ]
    },
    {
      "cell_type": "code",
      "metadata": {
        "id": "jBZpBtKN_6Hr",
        "colab": {
          "base_uri": "https://localhost:8080/"
        },
        "outputId": "3addcb07-f80e-4310-ce9d-fd739f31e2ce"
      },
      "source": [
        "tuple1=(\"orange\",3,True,\"pineapple\",\"banana\")\n",
        "print(tuple1[1])"
      ],
      "execution_count": 61,
      "outputs": [
        {
          "output_type": "stream",
          "text": [
            "3\n"
          ],
          "name": "stdout"
        }
      ]
    },
    {
      "cell_type": "code",
      "metadata": {
        "id": "pBXVYa6XBFrd",
        "colab": {
          "base_uri": "https://localhost:8080/"
        },
        "outputId": "1fdcabd4-fe51-4db6-beb8-14b77e19dddd"
      },
      "source": [
        "tuple1=(\"orange\",3,True,\"pineapple\",\"banana\")\n",
        "print(tuple1[-2])"
      ],
      "execution_count": 62,
      "outputs": [
        {
          "output_type": "stream",
          "text": [
            "pineapple\n"
          ],
          "name": "stdout"
        }
      ]
    },
    {
      "cell_type": "code",
      "metadata": {
        "id": "yPWLUNkaBd92",
        "colab": {
          "base_uri": "https://localhost:8080/"
        },
        "outputId": "8b6d7f30-ad4a-410b-92d3-ae8084c47c6f"
      },
      "source": [
        "tuple1=(\"orange\",3,True,\"pineapple\",\"banana\")\n",
        "print(tuple1[:4])"
      ],
      "execution_count": 63,
      "outputs": [
        {
          "output_type": "stream",
          "text": [
            "('orange', 3, True, 'pineapple')\n"
          ],
          "name": "stdout"
        }
      ]
    },
    {
      "cell_type": "code",
      "metadata": {
        "id": "c2NKRGTRBtKu",
        "colab": {
          "base_uri": "https://localhost:8080/"
        },
        "outputId": "eb3d0fbf-a638-43aa-9a7e-c31f66603f5e"
      },
      "source": [
        "tuple1=(\"orange\",3,True,\"pineapple\",\"banana\")\n",
        "print(tuple1[1:7])"
      ],
      "execution_count": 64,
      "outputs": [
        {
          "output_type": "stream",
          "text": [
            "(3, True, 'pineapple', 'banana')\n"
          ],
          "name": "stdout"
        }
      ]
    },
    {
      "cell_type": "code",
      "metadata": {
        "id": "IbC0Pq68B7il",
        "colab": {
          "base_uri": "https://localhost:8080/"
        },
        "outputId": "6d212bb5-3ee7-4923-de4c-631a4130b053"
      },
      "source": [
        "x=('apple','banana','cherry')\n",
        "y=list(x)\n",
        "y[1]='kiwi'\n",
        "x=tuple(y)\n",
        "print(x)"
      ],
      "execution_count": 65,
      "outputs": [
        {
          "output_type": "stream",
          "text": [
            "('apple', 'kiwi', 'cherry')\n"
          ],
          "name": "stdout"
        }
      ]
    },
    {
      "cell_type": "code",
      "metadata": {
        "id": "O3xtq7KlCV2l",
        "colab": {
          "base_uri": "https://localhost:8080/"
        },
        "outputId": "23c91bd6-0086-40ee-d574-5d3ddb66c07d"
      },
      "source": [
        "tuple1=(\"orange\",3,True,\"pineapple\",\"banana\")\n",
        "y=list(tuple1)\n",
        "y.append('apple')\n",
        "tuple1=tuple(y)\n",
        "print(tuple1)"
      ],
      "execution_count": 66,
      "outputs": [
        {
          "output_type": "stream",
          "text": [
            "('orange', 3, True, 'pineapple', 'banana', 'apple')\n"
          ],
          "name": "stdout"
        }
      ]
    },
    {
      "cell_type": "code",
      "metadata": {
        "id": "dx0uYVvDC8Il",
        "colab": {
          "base_uri": "https://localhost:8080/"
        },
        "outputId": "0a458746-d174-4280-d203-52ca9a4407b3"
      },
      "source": [
        "tuple1=(\"orange\",3,True,\"pineapple\",\"banana\")\n",
        "y=list(tuple1)\n",
        "y.remove('banana')\n",
        "tuple1=tuple(y)\n",
        "print(tuple1)"
      ],
      "execution_count": 67,
      "outputs": [
        {
          "output_type": "stream",
          "text": [
            "('orange', 3, True, 'pineapple')\n"
          ],
          "name": "stdout"
        }
      ]
    },
    {
      "cell_type": "code",
      "metadata": {
        "id": "DLRv4I-XEQBt",
        "colab": {
          "base_uri": "https://localhost:8080/"
        },
        "outputId": "9034a372-20aa-4ffe-e6b7-da98c1254860"
      },
      "source": [
        "colours=(\"orange\",\"pineapple\",\"banana\")\n",
        "(green,yellow,red)=colours\n",
        "print(green)\n",
        "print(yellow)\n",
        "print(red)"
      ],
      "execution_count": 68,
      "outputs": [
        {
          "output_type": "stream",
          "text": [
            "orange\n",
            "pineapple\n",
            "banana\n"
          ],
          "name": "stdout"
        }
      ]
    },
    {
      "cell_type": "code",
      "metadata": {
        "id": "gVn0-HbNFRhQ",
        "colab": {
          "base_uri": "https://localhost:8080/"
        },
        "outputId": "c4d3e0b7-8329-4036-a6d9-0ecf20667197"
      },
      "source": [
        "colours=(\"orange\",\"pineapple\",\"banana\",\"cherry\",\"mango\")\n",
        "(green,yellow,*red)=colours\n",
        "print(green)\n",
        "print(yellow)\n",
        "print(red)"
      ],
      "execution_count": 69,
      "outputs": [
        {
          "output_type": "stream",
          "text": [
            "orange\n",
            "pineapple\n",
            "['banana', 'cherry', 'mango']\n"
          ],
          "name": "stdout"
        }
      ]
    },
    {
      "cell_type": "code",
      "metadata": {
        "id": "32PyuOkvF034",
        "colab": {
          "base_uri": "https://localhost:8080/"
        },
        "outputId": "ee7dd0c9-e1e0-455a-a154-b2535c594e98"
      },
      "source": [
        "colours=(\"orange\",\"pineapple\",\"banana\",\"cherry\",\"mango\")\n",
        "(green,*yellow,red)=colours\n",
        "print(green)\n",
        "print(yellow)\n",
        "print(red)"
      ],
      "execution_count": 70,
      "outputs": [
        {
          "output_type": "stream",
          "text": [
            "orange\n",
            "['pineapple', 'banana', 'cherry']\n",
            "mango\n"
          ],
          "name": "stdout"
        }
      ]
    },
    {
      "cell_type": "code",
      "metadata": {
        "id": "2wLbs0eMGZRn",
        "colab": {
          "base_uri": "https://localhost:8080/"
        },
        "outputId": "76de3f4a-d5e4-4eaa-b74d-ce0c019f826a"
      },
      "source": [
        "colours=(\"orange\",\"pineapple\",\"banana\",\"cherry\",\"mango\")\n",
        "for x in colours:\n",
        "  print(x)"
      ],
      "execution_count": 71,
      "outputs": [
        {
          "output_type": "stream",
          "text": [
            "orange\n",
            "pineapple\n",
            "banana\n",
            "cherry\n",
            "mango\n"
          ],
          "name": "stdout"
        }
      ]
    },
    {
      "cell_type": "code",
      "metadata": {
        "id": "5NCksfjJG7Xj",
        "colab": {
          "base_uri": "https://localhost:8080/"
        },
        "outputId": "f79b5232-4c2d-4fc3-afa0-319df8decaa2"
      },
      "source": [
        "colours=(\"orange\",\"pineapple\",\"banana\",\"cherry\",\"mango\")\n",
        "for i in range(len(colours)):\n",
        "  print(colours[i])"
      ],
      "execution_count": 72,
      "outputs": [
        {
          "output_type": "stream",
          "text": [
            "orange\n",
            "pineapple\n",
            "banana\n",
            "cherry\n",
            "mango\n"
          ],
          "name": "stdout"
        }
      ]
    },
    {
      "cell_type": "markdown",
      "metadata": {
        "id": "E7Ge6-ExTcyv"
      },
      "source": [
        "#Dictionaries"
      ]
    },
    {
      "cell_type": "code",
      "metadata": {
        "id": "RTD5XADCTP6q",
        "colab": {
          "base_uri": "https://localhost:8080/"
        },
        "outputId": "9b8976a5-b11f-4be1-cd57-973a5d37eb79"
      },
      "source": [
        "thisdict={\"brand\":\"ford\",\"model\":\"mustang\",\"year\":1964}\n",
        "print(thisdict)"
      ],
      "execution_count": 73,
      "outputs": [
        {
          "output_type": "stream",
          "text": [
            "{'brand': 'ford', 'model': 'mustang', 'year': 1964}\n"
          ],
          "name": "stdout"
        }
      ]
    },
    {
      "cell_type": "code",
      "metadata": {
        "id": "JE-7WJ5SXIP-",
        "colab": {
          "base_uri": "https://localhost:8080/"
        },
        "outputId": "c787687d-cdae-4ac6-d93f-e8fb9e459f47"
      },
      "source": [
        "thisdict={\"brand\":\"ford\",\"model\":\"mustang\",\"country\":\"india\",\"year\":1964,\"colour\":[\"red\",\"white\",\"blue\"]}\n",
        "print(thisdict)"
      ],
      "execution_count": 74,
      "outputs": [
        {
          "output_type": "stream",
          "text": [
            "{'brand': 'ford', 'model': 'mustang', 'country': 'india', 'year': 1964, 'colour': ['red', 'white', 'blue']}\n"
          ],
          "name": "stdout"
        }
      ]
    },
    {
      "cell_type": "code",
      "metadata": {
        "id": "pfg12YYBYDXh",
        "colab": {
          "base_uri": "https://localhost:8080/"
        },
        "outputId": "f8f90b6b-8142-4672-f1fb-1d7f6fa3511f"
      },
      "source": [
        "print(type(thisdict))"
      ],
      "execution_count": 75,
      "outputs": [
        {
          "output_type": "stream",
          "text": [
            "<class 'dict'>\n"
          ],
          "name": "stdout"
        }
      ]
    },
    {
      "cell_type": "code",
      "metadata": {
        "id": "lDtaLYPZY0YN",
        "colab": {
          "base_uri": "https://localhost:8080/"
        },
        "outputId": "04065d62-37d4-423a-f17c-d57958c08dd9"
      },
      "source": [
        "thisdict={\"brand\":\"ford\",\"model\":\"mustang\",\"country\":\"india\",\"year\":1964,\"colour\":[\"red\",\"white\",\"blue\"]}\n",
        "thisdict[\"year\"]= 2020\n",
        "print(thisdict)\n",
        "print(len(thisdict[\"colour\"]))"
      ],
      "execution_count": 76,
      "outputs": [
        {
          "output_type": "stream",
          "text": [
            "{'brand': 'ford', 'model': 'mustang', 'country': 'india', 'year': 2020, 'colour': ['red', 'white', 'blue']}\n",
            "3\n"
          ],
          "name": "stdout"
        }
      ]
    },
    {
      "cell_type": "code",
      "metadata": {
        "id": "5GsQianYa_W3",
        "colab": {
          "base_uri": "https://localhost:8080/"
        },
        "outputId": "19614f89-2137-4d1e-8f2d-c1d96192c86f"
      },
      "source": [
        "thisdict={\"brand\":\"ford\",\"model\":\"mustang\",\"country\":\"india\",\"year\":2022,\"colour\":[\"red\",\"white\",\"blue\"]}\n",
        "thisdict.update({\"aditya\":\"first owner\"})\n",
        "print(thisdict)"
      ],
      "execution_count": 77,
      "outputs": [
        {
          "output_type": "stream",
          "text": [
            "{'brand': 'ford', 'model': 'mustang', 'country': 'india', 'year': 2022, 'colour': ['red', 'white', 'blue'], 'aditya': 'first owner'}\n"
          ],
          "name": "stdout"
        }
      ]
    },
    {
      "cell_type": "code",
      "metadata": {
        "id": "e7em_iLPbuh1",
        "colab": {
          "base_uri": "https://localhost:8080/"
        },
        "outputId": "82fa0cc0-8344-448e-e344-c875000fb08c"
      },
      "source": [
        "thisdict={\"brand\":\"ford\",\"model\":\"mustang\",\"country\":\"india\",\"year\":2022,\"colour\":[\"red\",\"white\",\"blue\"]}\n",
        "thisdict.pop(\"colour\")\n",
        "print(thisdict)"
      ],
      "execution_count": 78,
      "outputs": [
        {
          "output_type": "stream",
          "text": [
            "{'brand': 'ford', 'model': 'mustang', 'country': 'india', 'year': 2022}\n"
          ],
          "name": "stdout"
        }
      ]
    },
    {
      "cell_type": "code",
      "metadata": {
        "id": "goMpKE6ycK8F",
        "colab": {
          "base_uri": "https://localhost:8080/"
        },
        "outputId": "9e346c88-2334-4434-8733-319349d8096d"
      },
      "source": [
        "thisdict={\"brand\":\"ford\",\"model\":\"mustang\",\"country\":\"india\",\"year\":2022,\"colour\":[\"red\",\"white\",\"blue\"]}\n",
        "del thisdict[\"year\"]\n",
        "print(thisdict)"
      ],
      "execution_count": 79,
      "outputs": [
        {
          "output_type": "stream",
          "text": [
            "{'brand': 'ford', 'model': 'mustang', 'country': 'india', 'colour': ['red', 'white', 'blue']}\n"
          ],
          "name": "stdout"
        }
      ]
    },
    {
      "cell_type": "code",
      "metadata": {
        "id": "16oDYZ1uchBa",
        "colab": {
          "base_uri": "https://localhost:8080/"
        },
        "outputId": "c40c664b-b3f5-4f75-9723-3eb6080b3b2c"
      },
      "source": [
        "thisdict={\"brand\":\"ford\",\"model\":\"mustang\",\"country\":\"india\",\"year\":2022,\"colour\":[\"red\",\"white\",\"blue\"]}\n",
        "thisdict.clear()\n",
        "print(thisdict)"
      ],
      "execution_count": 80,
      "outputs": [
        {
          "output_type": "stream",
          "text": [
            "{}\n"
          ],
          "name": "stdout"
        }
      ]
    },
    {
      "cell_type": "code",
      "metadata": {
        "id": "gJsbLxRhc1uJ",
        "colab": {
          "base_uri": "https://localhost:8080/"
        },
        "outputId": "7e78bddb-6b7f-4d35-961f-fc6bc3f499a6"
      },
      "source": [
        "thisdict={\"brand\":\"ford\",\"model\":\"mustang\",\"country\":\"india\",\"year\":2022,\"colour\":[\"red\",\"white\",\"blue\"]}\n",
        "newdict=thisdict.copy()\n",
        "print(newdict)"
      ],
      "execution_count": 81,
      "outputs": [
        {
          "output_type": "stream",
          "text": [
            "{'brand': 'ford', 'model': 'mustang', 'country': 'india', 'year': 2022, 'colour': ['red', 'white', 'blue']}\n"
          ],
          "name": "stdout"
        }
      ]
    },
    {
      "cell_type": "code",
      "metadata": {
        "id": "GaVizhOpdRnR",
        "colab": {
          "base_uri": "https://localhost:8080/"
        },
        "outputId": "ad103305-9e17-458c-abff-ce7139388229"
      },
      "source": [
        "thisdict={\"child1\":{\"name\":\"mansi\",\"year\":2002},\"child2\":{\"name\":\"vikas\",\"year\":1985},\"child3\":{\"name\":\"payal\",\"year\":2007}}\n",
        "print(thisdict)"
      ],
      "execution_count": 82,
      "outputs": [
        {
          "output_type": "stream",
          "text": [
            "{'child1': {'name': 'mansi', 'year': 2002}, 'child2': {'name': 'vikas', 'year': 1985}, 'child3': {'name': 'payal', 'year': 2007}}\n"
          ],
          "name": "stdout"
        }
      ]
    },
    {
      "cell_type": "markdown",
      "metadata": {
        "id": "6tWIGZRfe12I"
      },
      "source": [
        "##Dictionary methods"
      ]
    },
    {
      "cell_type": "markdown",
      "metadata": {
        "id": "Q5iV51uue5Xt"
      },
      "source": [
        "**1)clear() , 2)copy() , 3)fromkey() , 4)get() , 5)items() , 6)keys() , 7)pop() , 8)popitem() , 9)setdefault() , 10)update() , 11)values()**"
      ]
    },
    {
      "cell_type": "code",
      "metadata": {
        "id": "V-e-WwxTecAl",
        "colab": {
          "base_uri": "https://localhost:8080/"
        },
        "outputId": "52c88f8c-f69e-49c0-9b97-21ea75a03562"
      },
      "source": [
        "a=33\n",
        "b=200\n",
        "if b>a :\n",
        "  print(\"b is greater\")\n"
      ],
      "execution_count": 83,
      "outputs": [
        {
          "output_type": "stream",
          "text": [
            "b is greater\n"
          ],
          "name": "stdout"
        }
      ]
    },
    {
      "cell_type": "code",
      "metadata": {
        "id": "vxS8MckXgEbd",
        "colab": {
          "base_uri": "https://localhost:8080/"
        },
        "outputId": "4aa81530-6b59-45cc-dc1f-30114b62d383"
      },
      "source": [
        "a=33\n",
        "b=33\n",
        "if b>a :\n",
        "  print(\"b is greater\")\n",
        "elif a==b :\n",
        "  print(\"a and b are equal\")\n"
      ],
      "execution_count": 84,
      "outputs": [
        {
          "output_type": "stream",
          "text": [
            "a and b are equal\n"
          ],
          "name": "stdout"
        }
      ]
    },
    {
      "cell_type": "code",
      "metadata": {
        "id": "EAlMQiAqgcLU",
        "colab": {
          "base_uri": "https://localhost:8080/"
        },
        "outputId": "f1e1bd9e-eac0-4979-f1bc-75f89bee4f85"
      },
      "source": [
        "a=333\n",
        "b=33\n",
        "if b>a :\n",
        "  print(\"b is greater\")\n",
        "elif a==b :\n",
        "  print(\"a and b are equal\")\n",
        "else :\n",
        "  print(\"a is greater than b\")"
      ],
      "execution_count": 85,
      "outputs": [
        {
          "output_type": "stream",
          "text": [
            "a is greater than b\n"
          ],
          "name": "stdout"
        }
      ]
    },
    {
      "cell_type": "code",
      "metadata": {
        "id": "pluAGApVgsa4",
        "colab": {
          "base_uri": "https://localhost:8080/"
        },
        "outputId": "e4358b9a-63d5-464f-bc89-f6d696b2e544"
      },
      "source": [
        "a=332\n",
        "\n",
        "b=33\n",
        "if b>a :\n",
        "  print(\"b is greater\")\n",
        "else :\n",
        "  print(\"a is greater than b\")"
      ],
      "execution_count": 86,
      "outputs": [
        {
          "output_type": "stream",
          "text": [
            "a is greater than b\n"
          ],
          "name": "stdout"
        }
      ]
    },
    {
      "cell_type": "code",
      "metadata": {
        "id": "64Pb8hD-g89j",
        "colab": {
          "base_uri": "https://localhost:8080/"
        },
        "outputId": "3d735da3-0931-47e1-f60f-e3d9c5359daf"
      },
      "source": [
        "a=333\n",
        "b=3333\n",
        "if b>a : print(\"b is greater\")"
      ],
      "execution_count": 87,
      "outputs": [
        {
          "output_type": "stream",
          "text": [
            "b is greater\n"
          ],
          "name": "stdout"
        }
      ]
    },
    {
      "cell_type": "code",
      "metadata": {
        "id": "lqHdxx01hNun",
        "colab": {
          "base_uri": "https://localhost:8080/"
        },
        "outputId": "cd0a158d-5b6f-4082-9e30-9d88f8186376"
      },
      "source": [
        "a=333\n",
        "b=33\n",
        "c=444\n",
        "if a>b and c>a :\n",
        "  print(\"both conditions are true.\",a,\"and\",c,\"are greater than\",b)"
      ],
      "execution_count": 88,
      "outputs": [
        {
          "output_type": "stream",
          "text": [
            "both conditions are true. 333 and 444 are greater than 33\n"
          ],
          "name": "stdout"
        }
      ]
    },
    {
      "cell_type": "code",
      "metadata": {
        "id": "cIMQMNQ-hxZO",
        "colab": {
          "base_uri": "https://localhost:8080/"
        },
        "outputId": "2af6ca9f-ce58-47f6-c22d-c3f7329e87d4"
      },
      "source": [
        "a=333\n",
        "b=33\n",
        "c=444\n",
        "if b>a or c>a :\n",
        "  print(\"at least one of the conditions is true\")"
      ],
      "execution_count": 89,
      "outputs": [
        {
          "output_type": "stream",
          "text": [
            "at least one of the conditions is true\n"
          ],
          "name": "stdout"
        }
      ]
    },
    {
      "cell_type": "markdown",
      "metadata": {
        "id": "miavshuQrLZD"
      },
      "source": [
        "#Pandas"
      ]
    },
    {
      "cell_type": "markdown",
      "metadata": {
        "id": "QzmkhEZraxWy"
      },
      "source": [
        "##Concatenetion"
      ]
    },
    {
      "cell_type": "code",
      "metadata": {
        "id": "U2SWEU2Sat5m",
        "colab": {
          "base_uri": "https://localhost:8080/"
        },
        "outputId": "926d4814-c8d4-4284-8138-2ec6c53c9c65"
      },
      "source": [
        "import pandas as pd\n",
        "df1=pd.DataFrame({'item':['a','b','c','d'],'value':[1,2,3,5]})\n",
        "df2=pd.DataFrame({'item':['e','f','g','h'],'value':[5,6,7,8]})\n",
        "print(df1)\n",
        "print(df2)"
      ],
      "execution_count": 90,
      "outputs": [
        {
          "output_type": "stream",
          "text": [
            "  item  value\n",
            "0    a      1\n",
            "1    b      2\n",
            "2    c      3\n",
            "3    d      5\n",
            "  item  value\n",
            "0    e      5\n",
            "1    f      6\n",
            "2    g      7\n",
            "3    h      8\n"
          ],
          "name": "stdout"
        }
      ]
    },
    {
      "cell_type": "code",
      "metadata": {
        "id": "kYjvRJG4d6fQ",
        "colab": {
          "base_uri": "https://localhost:8080/",
          "height": 0
        },
        "outputId": "a9d8df59-854e-4418-b5f4-bc9653af3d54"
      },
      "source": [
        "df1"
      ],
      "execution_count": 91,
      "outputs": [
        {
          "output_type": "execute_result",
          "data": {
            "text/html": [
              "<div>\n",
              "<style scoped>\n",
              "    .dataframe tbody tr th:only-of-type {\n",
              "        vertical-align: middle;\n",
              "    }\n",
              "\n",
              "    .dataframe tbody tr th {\n",
              "        vertical-align: top;\n",
              "    }\n",
              "\n",
              "    .dataframe thead th {\n",
              "        text-align: right;\n",
              "    }\n",
              "</style>\n",
              "<table border=\"1\" class=\"dataframe\">\n",
              "  <thead>\n",
              "    <tr style=\"text-align: right;\">\n",
              "      <th></th>\n",
              "      <th>item</th>\n",
              "      <th>value</th>\n",
              "    </tr>\n",
              "  </thead>\n",
              "  <tbody>\n",
              "    <tr>\n",
              "      <th>0</th>\n",
              "      <td>a</td>\n",
              "      <td>1</td>\n",
              "    </tr>\n",
              "    <tr>\n",
              "      <th>1</th>\n",
              "      <td>b</td>\n",
              "      <td>2</td>\n",
              "    </tr>\n",
              "    <tr>\n",
              "      <th>2</th>\n",
              "      <td>c</td>\n",
              "      <td>3</td>\n",
              "    </tr>\n",
              "    <tr>\n",
              "      <th>3</th>\n",
              "      <td>d</td>\n",
              "      <td>5</td>\n",
              "    </tr>\n",
              "  </tbody>\n",
              "</table>\n",
              "</div>"
            ],
            "text/plain": [
              "  item  value\n",
              "0    a      1\n",
              "1    b      2\n",
              "2    c      3\n",
              "3    d      5"
            ]
          },
          "metadata": {
            "tags": []
          },
          "execution_count": 91
        }
      ]
    },
    {
      "cell_type": "code",
      "metadata": {
        "id": "YnX4cSfTeEJS",
        "colab": {
          "base_uri": "https://localhost:8080/",
          "height": 0
        },
        "outputId": "d0993d07-46ae-4067-95d1-629198bec658"
      },
      "source": [
        "df2"
      ],
      "execution_count": 92,
      "outputs": [
        {
          "output_type": "execute_result",
          "data": {
            "text/html": [
              "<div>\n",
              "<style scoped>\n",
              "    .dataframe tbody tr th:only-of-type {\n",
              "        vertical-align: middle;\n",
              "    }\n",
              "\n",
              "    .dataframe tbody tr th {\n",
              "        vertical-align: top;\n",
              "    }\n",
              "\n",
              "    .dataframe thead th {\n",
              "        text-align: right;\n",
              "    }\n",
              "</style>\n",
              "<table border=\"1\" class=\"dataframe\">\n",
              "  <thead>\n",
              "    <tr style=\"text-align: right;\">\n",
              "      <th></th>\n",
              "      <th>item</th>\n",
              "      <th>value</th>\n",
              "    </tr>\n",
              "  </thead>\n",
              "  <tbody>\n",
              "    <tr>\n",
              "      <th>0</th>\n",
              "      <td>e</td>\n",
              "      <td>5</td>\n",
              "    </tr>\n",
              "    <tr>\n",
              "      <th>1</th>\n",
              "      <td>f</td>\n",
              "      <td>6</td>\n",
              "    </tr>\n",
              "    <tr>\n",
              "      <th>2</th>\n",
              "      <td>g</td>\n",
              "      <td>7</td>\n",
              "    </tr>\n",
              "    <tr>\n",
              "      <th>3</th>\n",
              "      <td>h</td>\n",
              "      <td>8</td>\n",
              "    </tr>\n",
              "  </tbody>\n",
              "</table>\n",
              "</div>"
            ],
            "text/plain": [
              "  item  value\n",
              "0    e      5\n",
              "1    f      6\n",
              "2    g      7\n",
              "3    h      8"
            ]
          },
          "metadata": {
            "tags": []
          },
          "execution_count": 92
        }
      ]
    },
    {
      "cell_type": "code",
      "metadata": {
        "id": "wwTdL3G-eE7n",
        "colab": {
          "base_uri": "https://localhost:8080/",
          "height": 0
        },
        "outputId": "b7d1933e-0ee5-478a-cab9-2dfe5596973d"
      },
      "source": [
        "pd.concat([df1,df2])"
      ],
      "execution_count": 93,
      "outputs": [
        {
          "output_type": "execute_result",
          "data": {
            "text/html": [
              "<div>\n",
              "<style scoped>\n",
              "    .dataframe tbody tr th:only-of-type {\n",
              "        vertical-align: middle;\n",
              "    }\n",
              "\n",
              "    .dataframe tbody tr th {\n",
              "        vertical-align: top;\n",
              "    }\n",
              "\n",
              "    .dataframe thead th {\n",
              "        text-align: right;\n",
              "    }\n",
              "</style>\n",
              "<table border=\"1\" class=\"dataframe\">\n",
              "  <thead>\n",
              "    <tr style=\"text-align: right;\">\n",
              "      <th></th>\n",
              "      <th>item</th>\n",
              "      <th>value</th>\n",
              "    </tr>\n",
              "  </thead>\n",
              "  <tbody>\n",
              "    <tr>\n",
              "      <th>0</th>\n",
              "      <td>a</td>\n",
              "      <td>1</td>\n",
              "    </tr>\n",
              "    <tr>\n",
              "      <th>1</th>\n",
              "      <td>b</td>\n",
              "      <td>2</td>\n",
              "    </tr>\n",
              "    <tr>\n",
              "      <th>2</th>\n",
              "      <td>c</td>\n",
              "      <td>3</td>\n",
              "    </tr>\n",
              "    <tr>\n",
              "      <th>3</th>\n",
              "      <td>d</td>\n",
              "      <td>5</td>\n",
              "    </tr>\n",
              "    <tr>\n",
              "      <th>0</th>\n",
              "      <td>e</td>\n",
              "      <td>5</td>\n",
              "    </tr>\n",
              "    <tr>\n",
              "      <th>1</th>\n",
              "      <td>f</td>\n",
              "      <td>6</td>\n",
              "    </tr>\n",
              "    <tr>\n",
              "      <th>2</th>\n",
              "      <td>g</td>\n",
              "      <td>7</td>\n",
              "    </tr>\n",
              "    <tr>\n",
              "      <th>3</th>\n",
              "      <td>h</td>\n",
              "      <td>8</td>\n",
              "    </tr>\n",
              "  </tbody>\n",
              "</table>\n",
              "</div>"
            ],
            "text/plain": [
              "  item  value\n",
              "0    a      1\n",
              "1    b      2\n",
              "2    c      3\n",
              "3    d      5\n",
              "0    e      5\n",
              "1    f      6\n",
              "2    g      7\n",
              "3    h      8"
            ]
          },
          "metadata": {
            "tags": []
          },
          "execution_count": 93
        }
      ]
    },
    {
      "cell_type": "code",
      "metadata": {
        "id": "X9IJQX7DebMH",
        "colab": {
          "base_uri": "https://localhost:8080/"
        },
        "outputId": "e8f9be89-5060-4efe-ef36-108ee36fa117"
      },
      "source": [
        "import pandas as pd\n",
        "df1=pd.DataFrame({'item':['a','b','c','d'],'value':[1,2,3,5]})\n",
        "df2=pd.DataFrame({'item':['e','f','g','h'],'value':[6,7,8,9]})\n",
        "print(df1)\n",
        "print(df2)"
      ],
      "execution_count": 94,
      "outputs": [
        {
          "output_type": "stream",
          "text": [
            "  item  value\n",
            "0    a      1\n",
            "1    b      2\n",
            "2    c      3\n",
            "3    d      5\n",
            "  item  value\n",
            "0    e      6\n",
            "1    f      7\n",
            "2    g      8\n",
            "3    h      9\n"
          ],
          "name": "stdout"
        }
      ]
    },
    {
      "cell_type": "code",
      "metadata": {
        "id": "d2nCiZqDerzO",
        "colab": {
          "base_uri": "https://localhost:8080/",
          "height": 0
        },
        "outputId": "7ff3b990-2f36-4e91-c299-27502298a014"
      },
      "source": [
        "pd.concat([df1,df2])"
      ],
      "execution_count": 95,
      "outputs": [
        {
          "output_type": "execute_result",
          "data": {
            "text/html": [
              "<div>\n",
              "<style scoped>\n",
              "    .dataframe tbody tr th:only-of-type {\n",
              "        vertical-align: middle;\n",
              "    }\n",
              "\n",
              "    .dataframe tbody tr th {\n",
              "        vertical-align: top;\n",
              "    }\n",
              "\n",
              "    .dataframe thead th {\n",
              "        text-align: right;\n",
              "    }\n",
              "</style>\n",
              "<table border=\"1\" class=\"dataframe\">\n",
              "  <thead>\n",
              "    <tr style=\"text-align: right;\">\n",
              "      <th></th>\n",
              "      <th>item</th>\n",
              "      <th>value</th>\n",
              "    </tr>\n",
              "  </thead>\n",
              "  <tbody>\n",
              "    <tr>\n",
              "      <th>0</th>\n",
              "      <td>a</td>\n",
              "      <td>1</td>\n",
              "    </tr>\n",
              "    <tr>\n",
              "      <th>1</th>\n",
              "      <td>b</td>\n",
              "      <td>2</td>\n",
              "    </tr>\n",
              "    <tr>\n",
              "      <th>2</th>\n",
              "      <td>c</td>\n",
              "      <td>3</td>\n",
              "    </tr>\n",
              "    <tr>\n",
              "      <th>3</th>\n",
              "      <td>d</td>\n",
              "      <td>5</td>\n",
              "    </tr>\n",
              "    <tr>\n",
              "      <th>0</th>\n",
              "      <td>e</td>\n",
              "      <td>6</td>\n",
              "    </tr>\n",
              "    <tr>\n",
              "      <th>1</th>\n",
              "      <td>f</td>\n",
              "      <td>7</td>\n",
              "    </tr>\n",
              "    <tr>\n",
              "      <th>2</th>\n",
              "      <td>g</td>\n",
              "      <td>8</td>\n",
              "    </tr>\n",
              "    <tr>\n",
              "      <th>3</th>\n",
              "      <td>h</td>\n",
              "      <td>9</td>\n",
              "    </tr>\n",
              "  </tbody>\n",
              "</table>\n",
              "</div>"
            ],
            "text/plain": [
              "  item  value\n",
              "0    a      1\n",
              "1    b      2\n",
              "2    c      3\n",
              "3    d      5\n",
              "0    e      6\n",
              "1    f      7\n",
              "2    g      8\n",
              "3    h      9"
            ]
          },
          "metadata": {
            "tags": []
          },
          "execution_count": 95
        }
      ]
    },
    {
      "cell_type": "code",
      "metadata": {
        "id": "5ZszfFgmewLE",
        "colab": {
          "base_uri": "https://localhost:8080/",
          "height": 0
        },
        "outputId": "b5a5894a-8574-4053-fca4-60a8a4b07b43"
      },
      "source": [
        "df1=pd.DataFrame({'item':['a','b','c','d'],'value':[1,2,3,5]})\n",
        "df2=pd.DataFrame({'item':['e','f','g','h'],'quantity':[5,6,7,8]})\n",
        "pd.concat([df1,df2])"
      ],
      "execution_count": 96,
      "outputs": [
        {
          "output_type": "execute_result",
          "data": {
            "text/html": [
              "<div>\n",
              "<style scoped>\n",
              "    .dataframe tbody tr th:only-of-type {\n",
              "        vertical-align: middle;\n",
              "    }\n",
              "\n",
              "    .dataframe tbody tr th {\n",
              "        vertical-align: top;\n",
              "    }\n",
              "\n",
              "    .dataframe thead th {\n",
              "        text-align: right;\n",
              "    }\n",
              "</style>\n",
              "<table border=\"1\" class=\"dataframe\">\n",
              "  <thead>\n",
              "    <tr style=\"text-align: right;\">\n",
              "      <th></th>\n",
              "      <th>item</th>\n",
              "      <th>value</th>\n",
              "      <th>quantity</th>\n",
              "    </tr>\n",
              "  </thead>\n",
              "  <tbody>\n",
              "    <tr>\n",
              "      <th>0</th>\n",
              "      <td>a</td>\n",
              "      <td>1.0</td>\n",
              "      <td>NaN</td>\n",
              "    </tr>\n",
              "    <tr>\n",
              "      <th>1</th>\n",
              "      <td>b</td>\n",
              "      <td>2.0</td>\n",
              "      <td>NaN</td>\n",
              "    </tr>\n",
              "    <tr>\n",
              "      <th>2</th>\n",
              "      <td>c</td>\n",
              "      <td>3.0</td>\n",
              "      <td>NaN</td>\n",
              "    </tr>\n",
              "    <tr>\n",
              "      <th>3</th>\n",
              "      <td>d</td>\n",
              "      <td>5.0</td>\n",
              "      <td>NaN</td>\n",
              "    </tr>\n",
              "    <tr>\n",
              "      <th>0</th>\n",
              "      <td>e</td>\n",
              "      <td>NaN</td>\n",
              "      <td>5.0</td>\n",
              "    </tr>\n",
              "    <tr>\n",
              "      <th>1</th>\n",
              "      <td>f</td>\n",
              "      <td>NaN</td>\n",
              "      <td>6.0</td>\n",
              "    </tr>\n",
              "    <tr>\n",
              "      <th>2</th>\n",
              "      <td>g</td>\n",
              "      <td>NaN</td>\n",
              "      <td>7.0</td>\n",
              "    </tr>\n",
              "    <tr>\n",
              "      <th>3</th>\n",
              "      <td>h</td>\n",
              "      <td>NaN</td>\n",
              "      <td>8.0</td>\n",
              "    </tr>\n",
              "  </tbody>\n",
              "</table>\n",
              "</div>"
            ],
            "text/plain": [
              "  item  value  quantity\n",
              "0    a    1.0       NaN\n",
              "1    b    2.0       NaN\n",
              "2    c    3.0       NaN\n",
              "3    d    5.0       NaN\n",
              "0    e    NaN       5.0\n",
              "1    f    NaN       6.0\n",
              "2    g    NaN       7.0\n",
              "3    h    NaN       8.0"
            ]
          },
          "metadata": {
            "tags": []
          },
          "execution_count": 96
        }
      ]
    },
    {
      "cell_type": "code",
      "metadata": {
        "id": "1eNFnQEgfiWg",
        "colab": {
          "base_uri": "https://localhost:8080/",
          "height": 0
        },
        "outputId": "6a6f6095-0ba5-4550-f964-86376ab48216"
      },
      "source": [
        "df1=pd.DataFrame({'item':['a','b','c','d'],'value':[1,2,3,5]})\n",
        "df2=pd.DataFrame({'item':['e','f','g','h'],'quantity':[5,6,7,8]})\n",
        "pd.concat([df1,df2]).reset_index()"
      ],
      "execution_count": 97,
      "outputs": [
        {
          "output_type": "execute_result",
          "data": {
            "text/html": [
              "<div>\n",
              "<style scoped>\n",
              "    .dataframe tbody tr th:only-of-type {\n",
              "        vertical-align: middle;\n",
              "    }\n",
              "\n",
              "    .dataframe tbody tr th {\n",
              "        vertical-align: top;\n",
              "    }\n",
              "\n",
              "    .dataframe thead th {\n",
              "        text-align: right;\n",
              "    }\n",
              "</style>\n",
              "<table border=\"1\" class=\"dataframe\">\n",
              "  <thead>\n",
              "    <tr style=\"text-align: right;\">\n",
              "      <th></th>\n",
              "      <th>index</th>\n",
              "      <th>item</th>\n",
              "      <th>value</th>\n",
              "      <th>quantity</th>\n",
              "    </tr>\n",
              "  </thead>\n",
              "  <tbody>\n",
              "    <tr>\n",
              "      <th>0</th>\n",
              "      <td>0</td>\n",
              "      <td>a</td>\n",
              "      <td>1.0</td>\n",
              "      <td>NaN</td>\n",
              "    </tr>\n",
              "    <tr>\n",
              "      <th>1</th>\n",
              "      <td>1</td>\n",
              "      <td>b</td>\n",
              "      <td>2.0</td>\n",
              "      <td>NaN</td>\n",
              "    </tr>\n",
              "    <tr>\n",
              "      <th>2</th>\n",
              "      <td>2</td>\n",
              "      <td>c</td>\n",
              "      <td>3.0</td>\n",
              "      <td>NaN</td>\n",
              "    </tr>\n",
              "    <tr>\n",
              "      <th>3</th>\n",
              "      <td>3</td>\n",
              "      <td>d</td>\n",
              "      <td>5.0</td>\n",
              "      <td>NaN</td>\n",
              "    </tr>\n",
              "    <tr>\n",
              "      <th>4</th>\n",
              "      <td>0</td>\n",
              "      <td>e</td>\n",
              "      <td>NaN</td>\n",
              "      <td>5.0</td>\n",
              "    </tr>\n",
              "    <tr>\n",
              "      <th>5</th>\n",
              "      <td>1</td>\n",
              "      <td>f</td>\n",
              "      <td>NaN</td>\n",
              "      <td>6.0</td>\n",
              "    </tr>\n",
              "    <tr>\n",
              "      <th>6</th>\n",
              "      <td>2</td>\n",
              "      <td>g</td>\n",
              "      <td>NaN</td>\n",
              "      <td>7.0</td>\n",
              "    </tr>\n",
              "    <tr>\n",
              "      <th>7</th>\n",
              "      <td>3</td>\n",
              "      <td>h</td>\n",
              "      <td>NaN</td>\n",
              "      <td>8.0</td>\n",
              "    </tr>\n",
              "  </tbody>\n",
              "</table>\n",
              "</div>"
            ],
            "text/plain": [
              "   index item  value  quantity\n",
              "0      0    a    1.0       NaN\n",
              "1      1    b    2.0       NaN\n",
              "2      2    c    3.0       NaN\n",
              "3      3    d    5.0       NaN\n",
              "4      0    e    NaN       5.0\n",
              "5      1    f    NaN       6.0\n",
              "6      2    g    NaN       7.0\n",
              "7      3    h    NaN       8.0"
            ]
          },
          "metadata": {
            "tags": []
          },
          "execution_count": 97
        }
      ]
    },
    {
      "cell_type": "code",
      "metadata": {
        "id": "hpPXjuLBgOz_",
        "colab": {
          "base_uri": "https://localhost:8080/",
          "height": 0
        },
        "outputId": "eb78e8a0-6df5-4628-e832-45ecb0479bf7"
      },
      "source": [
        "pd.concat([df1,df2], axis=1)"
      ],
      "execution_count": 98,
      "outputs": [
        {
          "output_type": "execute_result",
          "data": {
            "text/html": [
              "<div>\n",
              "<style scoped>\n",
              "    .dataframe tbody tr th:only-of-type {\n",
              "        vertical-align: middle;\n",
              "    }\n",
              "\n",
              "    .dataframe tbody tr th {\n",
              "        vertical-align: top;\n",
              "    }\n",
              "\n",
              "    .dataframe thead th {\n",
              "        text-align: right;\n",
              "    }\n",
              "</style>\n",
              "<table border=\"1\" class=\"dataframe\">\n",
              "  <thead>\n",
              "    <tr style=\"text-align: right;\">\n",
              "      <th></th>\n",
              "      <th>item</th>\n",
              "      <th>value</th>\n",
              "      <th>item</th>\n",
              "      <th>quantity</th>\n",
              "    </tr>\n",
              "  </thead>\n",
              "  <tbody>\n",
              "    <tr>\n",
              "      <th>0</th>\n",
              "      <td>a</td>\n",
              "      <td>1</td>\n",
              "      <td>e</td>\n",
              "      <td>5</td>\n",
              "    </tr>\n",
              "    <tr>\n",
              "      <th>1</th>\n",
              "      <td>b</td>\n",
              "      <td>2</td>\n",
              "      <td>f</td>\n",
              "      <td>6</td>\n",
              "    </tr>\n",
              "    <tr>\n",
              "      <th>2</th>\n",
              "      <td>c</td>\n",
              "      <td>3</td>\n",
              "      <td>g</td>\n",
              "      <td>7</td>\n",
              "    </tr>\n",
              "    <tr>\n",
              "      <th>3</th>\n",
              "      <td>d</td>\n",
              "      <td>5</td>\n",
              "      <td>h</td>\n",
              "      <td>8</td>\n",
              "    </tr>\n",
              "  </tbody>\n",
              "</table>\n",
              "</div>"
            ],
            "text/plain": [
              "  item  value item  quantity\n",
              "0    a      1    e         5\n",
              "1    b      2    f         6\n",
              "2    c      3    g         7\n",
              "3    d      5    h         8"
            ]
          },
          "metadata": {
            "tags": []
          },
          "execution_count": 98
        }
      ]
    },
    {
      "cell_type": "markdown",
      "metadata": {
        "id": "0pu1CRY3g2uR"
      },
      "source": [
        "##Append & Merge"
      ]
    },
    {
      "cell_type": "code",
      "metadata": {
        "id": "fR9GZnSOggI_",
        "colab": {
          "base_uri": "https://localhost:8080/",
          "height": 0
        },
        "outputId": "f80878b4-fb46-481f-d587-e3369cd107c0"
      },
      "source": [
        "df1=pd.DataFrame({'item':['a','b','c','d'],'value':[1,2,3,5]})\n",
        "df2=pd.DataFrame({'item':['e','f','g','h'],'quantity':[5,6,7,8]})\n",
        "df3=pd.DataFrame({'item':['i','j','k','l'],'quantity':[3,7,4,25]})\n",
        "df1.append([df2,df3])"
      ],
      "execution_count": 99,
      "outputs": [
        {
          "output_type": "execute_result",
          "data": {
            "text/html": [
              "<div>\n",
              "<style scoped>\n",
              "    .dataframe tbody tr th:only-of-type {\n",
              "        vertical-align: middle;\n",
              "    }\n",
              "\n",
              "    .dataframe tbody tr th {\n",
              "        vertical-align: top;\n",
              "    }\n",
              "\n",
              "    .dataframe thead th {\n",
              "        text-align: right;\n",
              "    }\n",
              "</style>\n",
              "<table border=\"1\" class=\"dataframe\">\n",
              "  <thead>\n",
              "    <tr style=\"text-align: right;\">\n",
              "      <th></th>\n",
              "      <th>item</th>\n",
              "      <th>value</th>\n",
              "      <th>quantity</th>\n",
              "    </tr>\n",
              "  </thead>\n",
              "  <tbody>\n",
              "    <tr>\n",
              "      <th>0</th>\n",
              "      <td>a</td>\n",
              "      <td>1.0</td>\n",
              "      <td>NaN</td>\n",
              "    </tr>\n",
              "    <tr>\n",
              "      <th>1</th>\n",
              "      <td>b</td>\n",
              "      <td>2.0</td>\n",
              "      <td>NaN</td>\n",
              "    </tr>\n",
              "    <tr>\n",
              "      <th>2</th>\n",
              "      <td>c</td>\n",
              "      <td>3.0</td>\n",
              "      <td>NaN</td>\n",
              "    </tr>\n",
              "    <tr>\n",
              "      <th>3</th>\n",
              "      <td>d</td>\n",
              "      <td>5.0</td>\n",
              "      <td>NaN</td>\n",
              "    </tr>\n",
              "    <tr>\n",
              "      <th>0</th>\n",
              "      <td>e</td>\n",
              "      <td>NaN</td>\n",
              "      <td>5.0</td>\n",
              "    </tr>\n",
              "    <tr>\n",
              "      <th>1</th>\n",
              "      <td>f</td>\n",
              "      <td>NaN</td>\n",
              "      <td>6.0</td>\n",
              "    </tr>\n",
              "    <tr>\n",
              "      <th>2</th>\n",
              "      <td>g</td>\n",
              "      <td>NaN</td>\n",
              "      <td>7.0</td>\n",
              "    </tr>\n",
              "    <tr>\n",
              "      <th>3</th>\n",
              "      <td>h</td>\n",
              "      <td>NaN</td>\n",
              "      <td>8.0</td>\n",
              "    </tr>\n",
              "    <tr>\n",
              "      <th>0</th>\n",
              "      <td>i</td>\n",
              "      <td>NaN</td>\n",
              "      <td>3.0</td>\n",
              "    </tr>\n",
              "    <tr>\n",
              "      <th>1</th>\n",
              "      <td>j</td>\n",
              "      <td>NaN</td>\n",
              "      <td>7.0</td>\n",
              "    </tr>\n",
              "    <tr>\n",
              "      <th>2</th>\n",
              "      <td>k</td>\n",
              "      <td>NaN</td>\n",
              "      <td>4.0</td>\n",
              "    </tr>\n",
              "    <tr>\n",
              "      <th>3</th>\n",
              "      <td>l</td>\n",
              "      <td>NaN</td>\n",
              "      <td>25.0</td>\n",
              "    </tr>\n",
              "  </tbody>\n",
              "</table>\n",
              "</div>"
            ],
            "text/plain": [
              "  item  value  quantity\n",
              "0    a    1.0       NaN\n",
              "1    b    2.0       NaN\n",
              "2    c    3.0       NaN\n",
              "3    d    5.0       NaN\n",
              "0    e    NaN       5.0\n",
              "1    f    NaN       6.0\n",
              "2    g    NaN       7.0\n",
              "3    h    NaN       8.0\n",
              "0    i    NaN       3.0\n",
              "1    j    NaN       7.0\n",
              "2    k    NaN       4.0\n",
              "3    l    NaN      25.0"
            ]
          },
          "metadata": {
            "tags": []
          },
          "execution_count": 99
        }
      ]
    },
    {
      "cell_type": "code",
      "metadata": {
        "id": "jwf2MjQPhoUT",
        "colab": {
          "base_uri": "https://localhost:8080/",
          "height": 0
        },
        "outputId": "b5b8a0d7-e74d-4699-9ba9-8dc51b45dc5c"
      },
      "source": [
        "dfa=pd.DataFrame({'key':['a','b','c','d'],'A':[1,2,3,5]})\n",
        "dfb=pd.DataFrame({'key':['e','f','g','h'],'B':[5,6,7,8]})\n",
        "pd.merge(dfa,dfb, on='key')\n"
      ],
      "execution_count": 100,
      "outputs": [
        {
          "output_type": "execute_result",
          "data": {
            "text/html": [
              "<div>\n",
              "<style scoped>\n",
              "    .dataframe tbody tr th:only-of-type {\n",
              "        vertical-align: middle;\n",
              "    }\n",
              "\n",
              "    .dataframe tbody tr th {\n",
              "        vertical-align: top;\n",
              "    }\n",
              "\n",
              "    .dataframe thead th {\n",
              "        text-align: right;\n",
              "    }\n",
              "</style>\n",
              "<table border=\"1\" class=\"dataframe\">\n",
              "  <thead>\n",
              "    <tr style=\"text-align: right;\">\n",
              "      <th></th>\n",
              "      <th>key</th>\n",
              "      <th>A</th>\n",
              "      <th>B</th>\n",
              "    </tr>\n",
              "  </thead>\n",
              "  <tbody>\n",
              "  </tbody>\n",
              "</table>\n",
              "</div>"
            ],
            "text/plain": [
              "Empty DataFrame\n",
              "Columns: [key, A, B]\n",
              "Index: []"
            ]
          },
          "metadata": {
            "tags": []
          },
          "execution_count": 100
        }
      ]
    },
    {
      "cell_type": "code",
      "metadata": {
        "id": "jfgAwXDViZW0",
        "colab": {
          "base_uri": "https://localhost:8080/",
          "height": 0
        },
        "outputId": "a8c9e2c4-5df0-4d50-930e-67785518aeee"
      },
      "source": [
        "dfa=pd.DataFrame({'key':['k0','k1','k2','k3'],'A':['A0','A1','A2','A3'],'B':['B0','B1','B2','B3']})\n",
        "dfb=pd.DataFrame({'key':['k0','k1','k2','k3'],'C':['C0','C1','C2','C3'],'D':['D0','D1','D2','D3']})\n",
        "pd.merge(dfa,dfb, on='key')\n"
      ],
      "execution_count": 101,
      "outputs": [
        {
          "output_type": "execute_result",
          "data": {
            "text/html": [
              "<div>\n",
              "<style scoped>\n",
              "    .dataframe tbody tr th:only-of-type {\n",
              "        vertical-align: middle;\n",
              "    }\n",
              "\n",
              "    .dataframe tbody tr th {\n",
              "        vertical-align: top;\n",
              "    }\n",
              "\n",
              "    .dataframe thead th {\n",
              "        text-align: right;\n",
              "    }\n",
              "</style>\n",
              "<table border=\"1\" class=\"dataframe\">\n",
              "  <thead>\n",
              "    <tr style=\"text-align: right;\">\n",
              "      <th></th>\n",
              "      <th>key</th>\n",
              "      <th>A</th>\n",
              "      <th>B</th>\n",
              "      <th>C</th>\n",
              "      <th>D</th>\n",
              "    </tr>\n",
              "  </thead>\n",
              "  <tbody>\n",
              "    <tr>\n",
              "      <th>0</th>\n",
              "      <td>k0</td>\n",
              "      <td>A0</td>\n",
              "      <td>B0</td>\n",
              "      <td>C0</td>\n",
              "      <td>D0</td>\n",
              "    </tr>\n",
              "    <tr>\n",
              "      <th>1</th>\n",
              "      <td>k1</td>\n",
              "      <td>A1</td>\n",
              "      <td>B1</td>\n",
              "      <td>C1</td>\n",
              "      <td>D1</td>\n",
              "    </tr>\n",
              "    <tr>\n",
              "      <th>2</th>\n",
              "      <td>k2</td>\n",
              "      <td>A2</td>\n",
              "      <td>B2</td>\n",
              "      <td>C2</td>\n",
              "      <td>D2</td>\n",
              "    </tr>\n",
              "    <tr>\n",
              "      <th>3</th>\n",
              "      <td>k3</td>\n",
              "      <td>A3</td>\n",
              "      <td>B3</td>\n",
              "      <td>C3</td>\n",
              "      <td>D3</td>\n",
              "    </tr>\n",
              "  </tbody>\n",
              "</table>\n",
              "</div>"
            ],
            "text/plain": [
              "  key   A   B   C   D\n",
              "0  k0  A0  B0  C0  D0\n",
              "1  k1  A1  B1  C1  D1\n",
              "2  k2  A2  B2  C2  D2\n",
              "3  k3  A3  B3  C3  D3"
            ]
          },
          "metadata": {
            "tags": []
          },
          "execution_count": 101
        }
      ]
    },
    {
      "cell_type": "code",
      "metadata": {
        "id": "V6r_0eCAjdli",
        "colab": {
          "base_uri": "https://localhost:8080/",
          "height": 0
        },
        "outputId": "57c5729a-26c1-42ee-887c-27adecba4dda"
      },
      "source": [
        "dfa=pd.DataFrame({'key':['k0','k1','k2','k3'],'A':['A0','A1','A2','A3'],'B':['B0','B1','B2','B3']})\n",
        "dfb=pd.DataFrame({'key':['k0','k1','k2','k3'],'C':['C0','C1','C2','C3'],'D':['D0','D1','D2','D3']})\n",
        "pd.merge(dfa,dfb,how='left', on='key')\n"
      ],
      "execution_count": 102,
      "outputs": [
        {
          "output_type": "execute_result",
          "data": {
            "text/html": [
              "<div>\n",
              "<style scoped>\n",
              "    .dataframe tbody tr th:only-of-type {\n",
              "        vertical-align: middle;\n",
              "    }\n",
              "\n",
              "    .dataframe tbody tr th {\n",
              "        vertical-align: top;\n",
              "    }\n",
              "\n",
              "    .dataframe thead th {\n",
              "        text-align: right;\n",
              "    }\n",
              "</style>\n",
              "<table border=\"1\" class=\"dataframe\">\n",
              "  <thead>\n",
              "    <tr style=\"text-align: right;\">\n",
              "      <th></th>\n",
              "      <th>key</th>\n",
              "      <th>A</th>\n",
              "      <th>B</th>\n",
              "      <th>C</th>\n",
              "      <th>D</th>\n",
              "    </tr>\n",
              "  </thead>\n",
              "  <tbody>\n",
              "    <tr>\n",
              "      <th>0</th>\n",
              "      <td>k0</td>\n",
              "      <td>A0</td>\n",
              "      <td>B0</td>\n",
              "      <td>C0</td>\n",
              "      <td>D0</td>\n",
              "    </tr>\n",
              "    <tr>\n",
              "      <th>1</th>\n",
              "      <td>k1</td>\n",
              "      <td>A1</td>\n",
              "      <td>B1</td>\n",
              "      <td>C1</td>\n",
              "      <td>D1</td>\n",
              "    </tr>\n",
              "    <tr>\n",
              "      <th>2</th>\n",
              "      <td>k2</td>\n",
              "      <td>A2</td>\n",
              "      <td>B2</td>\n",
              "      <td>C2</td>\n",
              "      <td>D2</td>\n",
              "    </tr>\n",
              "    <tr>\n",
              "      <th>3</th>\n",
              "      <td>k3</td>\n",
              "      <td>A3</td>\n",
              "      <td>B3</td>\n",
              "      <td>C3</td>\n",
              "      <td>D3</td>\n",
              "    </tr>\n",
              "  </tbody>\n",
              "</table>\n",
              "</div>"
            ],
            "text/plain": [
              "  key   A   B   C   D\n",
              "0  k0  A0  B0  C0  D0\n",
              "1  k1  A1  B1  C1  D1\n",
              "2  k2  A2  B2  C2  D2\n",
              "3  k3  A3  B3  C3  D3"
            ]
          },
          "metadata": {
            "tags": []
          },
          "execution_count": 102
        }
      ]
    },
    {
      "cell_type": "code",
      "metadata": {
        "id": "cvr0NyNWjzHt",
        "colab": {
          "base_uri": "https://localhost:8080/",
          "height": 0
        },
        "outputId": "284fed65-d53e-429f-bdb3-16e63b580504"
      },
      "source": [
        "dfa=pd.DataFrame({'key':['k0','k1','k2','k3'],'A':['A0','A1','A2','A3'],'B':['B0','B1','B2','B3']})\n",
        "dfb=pd.DataFrame({'key':['k0','k1','k2','k3'],'C':['C0','C1','C2','C3'],'D':['D0','D1','D2','D3']})\n",
        "pd.merge(dfa,dfb,how='right', on='key')\n"
      ],
      "execution_count": 103,
      "outputs": [
        {
          "output_type": "execute_result",
          "data": {
            "text/html": [
              "<div>\n",
              "<style scoped>\n",
              "    .dataframe tbody tr th:only-of-type {\n",
              "        vertical-align: middle;\n",
              "    }\n",
              "\n",
              "    .dataframe tbody tr th {\n",
              "        vertical-align: top;\n",
              "    }\n",
              "\n",
              "    .dataframe thead th {\n",
              "        text-align: right;\n",
              "    }\n",
              "</style>\n",
              "<table border=\"1\" class=\"dataframe\">\n",
              "  <thead>\n",
              "    <tr style=\"text-align: right;\">\n",
              "      <th></th>\n",
              "      <th>key</th>\n",
              "      <th>A</th>\n",
              "      <th>B</th>\n",
              "      <th>C</th>\n",
              "      <th>D</th>\n",
              "    </tr>\n",
              "  </thead>\n",
              "  <tbody>\n",
              "    <tr>\n",
              "      <th>0</th>\n",
              "      <td>k0</td>\n",
              "      <td>A0</td>\n",
              "      <td>B0</td>\n",
              "      <td>C0</td>\n",
              "      <td>D0</td>\n",
              "    </tr>\n",
              "    <tr>\n",
              "      <th>1</th>\n",
              "      <td>k1</td>\n",
              "      <td>A1</td>\n",
              "      <td>B1</td>\n",
              "      <td>C1</td>\n",
              "      <td>D1</td>\n",
              "    </tr>\n",
              "    <tr>\n",
              "      <th>2</th>\n",
              "      <td>k2</td>\n",
              "      <td>A2</td>\n",
              "      <td>B2</td>\n",
              "      <td>C2</td>\n",
              "      <td>D2</td>\n",
              "    </tr>\n",
              "    <tr>\n",
              "      <th>3</th>\n",
              "      <td>k3</td>\n",
              "      <td>A3</td>\n",
              "      <td>B3</td>\n",
              "      <td>C3</td>\n",
              "      <td>D3</td>\n",
              "    </tr>\n",
              "  </tbody>\n",
              "</table>\n",
              "</div>"
            ],
            "text/plain": [
              "  key   A   B   C   D\n",
              "0  k0  A0  B0  C0  D0\n",
              "1  k1  A1  B1  C1  D1\n",
              "2  k2  A2  B2  C2  D2\n",
              "3  k3  A3  B3  C3  D3"
            ]
          },
          "metadata": {
            "tags": []
          },
          "execution_count": 103
        }
      ]
    },
    {
      "cell_type": "code",
      "metadata": {
        "id": "t71jRlm9j5Zi",
        "colab": {
          "base_uri": "https://localhost:8080/",
          "height": 0
        },
        "outputId": "acda3de7-8086-442c-acc7-d8c36ea6bf52"
      },
      "source": [
        "dfa=pd.DataFrame({'key':['k0','k1','k2','k3'],'A':['A0','A1','A2','A3'],'B':['B0','B1','B2','B3']})\n",
        "dfb=pd.DataFrame({'key':['k0','k1','k2','k3'],'C':['C0','C1','C2','C3'],'D':['D0','D1','D2','D3']})\n",
        "pd.merge(dfa,dfb,how='inner', on='key')\n"
      ],
      "execution_count": 104,
      "outputs": [
        {
          "output_type": "execute_result",
          "data": {
            "text/html": [
              "<div>\n",
              "<style scoped>\n",
              "    .dataframe tbody tr th:only-of-type {\n",
              "        vertical-align: middle;\n",
              "    }\n",
              "\n",
              "    .dataframe tbody tr th {\n",
              "        vertical-align: top;\n",
              "    }\n",
              "\n",
              "    .dataframe thead th {\n",
              "        text-align: right;\n",
              "    }\n",
              "</style>\n",
              "<table border=\"1\" class=\"dataframe\">\n",
              "  <thead>\n",
              "    <tr style=\"text-align: right;\">\n",
              "      <th></th>\n",
              "      <th>key</th>\n",
              "      <th>A</th>\n",
              "      <th>B</th>\n",
              "      <th>C</th>\n",
              "      <th>D</th>\n",
              "    </tr>\n",
              "  </thead>\n",
              "  <tbody>\n",
              "    <tr>\n",
              "      <th>0</th>\n",
              "      <td>k0</td>\n",
              "      <td>A0</td>\n",
              "      <td>B0</td>\n",
              "      <td>C0</td>\n",
              "      <td>D0</td>\n",
              "    </tr>\n",
              "    <tr>\n",
              "      <th>1</th>\n",
              "      <td>k1</td>\n",
              "      <td>A1</td>\n",
              "      <td>B1</td>\n",
              "      <td>C1</td>\n",
              "      <td>D1</td>\n",
              "    </tr>\n",
              "    <tr>\n",
              "      <th>2</th>\n",
              "      <td>k2</td>\n",
              "      <td>A2</td>\n",
              "      <td>B2</td>\n",
              "      <td>C2</td>\n",
              "      <td>D2</td>\n",
              "    </tr>\n",
              "    <tr>\n",
              "      <th>3</th>\n",
              "      <td>k3</td>\n",
              "      <td>A3</td>\n",
              "      <td>B3</td>\n",
              "      <td>C3</td>\n",
              "      <td>D3</td>\n",
              "    </tr>\n",
              "  </tbody>\n",
              "</table>\n",
              "</div>"
            ],
            "text/plain": [
              "  key   A   B   C   D\n",
              "0  k0  A0  B0  C0  D0\n",
              "1  k1  A1  B1  C1  D1\n",
              "2  k2  A2  B2  C2  D2\n",
              "3  k3  A3  B3  C3  D3"
            ]
          },
          "metadata": {
            "tags": []
          },
          "execution_count": 104
        }
      ]
    },
    {
      "cell_type": "code",
      "metadata": {
        "id": "7-lA8fAjj-vF"
      },
      "source": [
        "left=pd.DataFrame({'A':['k0','k1','k2','k3'],'b':['A0','A1','A2','A3']},index=['B0','B1','B2','B3'])\n"
      ],
      "execution_count": 105,
      "outputs": []
    },
    {
      "cell_type": "code",
      "metadata": {
        "id": "QACqXRF5kvKv",
        "colab": {
          "base_uri": "https://localhost:8080/",
          "height": 0
        },
        "outputId": "aaf36c1b-842e-44fa-e020-8212fdac483d"
      },
      "source": [
        "left"
      ],
      "execution_count": 106,
      "outputs": [
        {
          "output_type": "execute_result",
          "data": {
            "text/html": [
              "<div>\n",
              "<style scoped>\n",
              "    .dataframe tbody tr th:only-of-type {\n",
              "        vertical-align: middle;\n",
              "    }\n",
              "\n",
              "    .dataframe tbody tr th {\n",
              "        vertical-align: top;\n",
              "    }\n",
              "\n",
              "    .dataframe thead th {\n",
              "        text-align: right;\n",
              "    }\n",
              "</style>\n",
              "<table border=\"1\" class=\"dataframe\">\n",
              "  <thead>\n",
              "    <tr style=\"text-align: right;\">\n",
              "      <th></th>\n",
              "      <th>A</th>\n",
              "      <th>b</th>\n",
              "    </tr>\n",
              "  </thead>\n",
              "  <tbody>\n",
              "    <tr>\n",
              "      <th>B0</th>\n",
              "      <td>k0</td>\n",
              "      <td>A0</td>\n",
              "    </tr>\n",
              "    <tr>\n",
              "      <th>B1</th>\n",
              "      <td>k1</td>\n",
              "      <td>A1</td>\n",
              "    </tr>\n",
              "    <tr>\n",
              "      <th>B2</th>\n",
              "      <td>k2</td>\n",
              "      <td>A2</td>\n",
              "    </tr>\n",
              "    <tr>\n",
              "      <th>B3</th>\n",
              "      <td>k3</td>\n",
              "      <td>A3</td>\n",
              "    </tr>\n",
              "  </tbody>\n",
              "</table>\n",
              "</div>"
            ],
            "text/plain": [
              "     A   b\n",
              "B0  k0  A0\n",
              "B1  k1  A1\n",
              "B2  k2  A2\n",
              "B3  k3  A3"
            ]
          },
          "metadata": {
            "tags": []
          },
          "execution_count": 106
        }
      ]
    },
    {
      "cell_type": "code",
      "metadata": {
        "id": "_GSgZ3c1k6Ez",
        "colab": {
          "base_uri": "https://localhost:8080/",
          "height": 0
        },
        "outputId": "367e84a6-9efa-4b88-a186-edb611719d45"
      },
      "source": [
        "left=pd.DataFrame({'A':['A0','A1','A2'],'b':['B0','B1','B2']},index=['K0','K1','K2'])\n",
        "left"
      ],
      "execution_count": 107,
      "outputs": [
        {
          "output_type": "execute_result",
          "data": {
            "text/html": [
              "<div>\n",
              "<style scoped>\n",
              "    .dataframe tbody tr th:only-of-type {\n",
              "        vertical-align: middle;\n",
              "    }\n",
              "\n",
              "    .dataframe tbody tr th {\n",
              "        vertical-align: top;\n",
              "    }\n",
              "\n",
              "    .dataframe thead th {\n",
              "        text-align: right;\n",
              "    }\n",
              "</style>\n",
              "<table border=\"1\" class=\"dataframe\">\n",
              "  <thead>\n",
              "    <tr style=\"text-align: right;\">\n",
              "      <th></th>\n",
              "      <th>A</th>\n",
              "      <th>b</th>\n",
              "    </tr>\n",
              "  </thead>\n",
              "  <tbody>\n",
              "    <tr>\n",
              "      <th>K0</th>\n",
              "      <td>A0</td>\n",
              "      <td>B0</td>\n",
              "    </tr>\n",
              "    <tr>\n",
              "      <th>K1</th>\n",
              "      <td>A1</td>\n",
              "      <td>B1</td>\n",
              "    </tr>\n",
              "    <tr>\n",
              "      <th>K2</th>\n",
              "      <td>A2</td>\n",
              "      <td>B2</td>\n",
              "    </tr>\n",
              "  </tbody>\n",
              "</table>\n",
              "</div>"
            ],
            "text/plain": [
              "     A   b\n",
              "K0  A0  B0\n",
              "K1  A1  B1\n",
              "K2  A2  B2"
            ]
          },
          "metadata": {
            "tags": []
          },
          "execution_count": 107
        }
      ]
    },
    {
      "cell_type": "code",
      "metadata": {
        "id": "eO_xhX1llMBY",
        "colab": {
          "base_uri": "https://localhost:8080/",
          "height": 0
        },
        "outputId": "c249bcb1-0648-45d5-ba97-06cb67e68aad"
      },
      "source": [
        "right=pd.DataFrame({'c':['c0','c1','c2'],'d':['d0','d1','d2']},index=['K0','K1','K2'])\n",
        "right"
      ],
      "execution_count": 108,
      "outputs": [
        {
          "output_type": "execute_result",
          "data": {
            "text/html": [
              "<div>\n",
              "<style scoped>\n",
              "    .dataframe tbody tr th:only-of-type {\n",
              "        vertical-align: middle;\n",
              "    }\n",
              "\n",
              "    .dataframe tbody tr th {\n",
              "        vertical-align: top;\n",
              "    }\n",
              "\n",
              "    .dataframe thead th {\n",
              "        text-align: right;\n",
              "    }\n",
              "</style>\n",
              "<table border=\"1\" class=\"dataframe\">\n",
              "  <thead>\n",
              "    <tr style=\"text-align: right;\">\n",
              "      <th></th>\n",
              "      <th>c</th>\n",
              "      <th>d</th>\n",
              "    </tr>\n",
              "  </thead>\n",
              "  <tbody>\n",
              "    <tr>\n",
              "      <th>K0</th>\n",
              "      <td>c0</td>\n",
              "      <td>d0</td>\n",
              "    </tr>\n",
              "    <tr>\n",
              "      <th>K1</th>\n",
              "      <td>c1</td>\n",
              "      <td>d1</td>\n",
              "    </tr>\n",
              "    <tr>\n",
              "      <th>K2</th>\n",
              "      <td>c2</td>\n",
              "      <td>d2</td>\n",
              "    </tr>\n",
              "  </tbody>\n",
              "</table>\n",
              "</div>"
            ],
            "text/plain": [
              "     c   d\n",
              "K0  c0  d0\n",
              "K1  c1  d1\n",
              "K2  c2  d2"
            ]
          },
          "metadata": {
            "tags": []
          },
          "execution_count": 108
        }
      ]
    },
    {
      "cell_type": "code",
      "metadata": {
        "id": "hUY__LjNmHMx",
        "colab": {
          "base_uri": "https://localhost:8080/",
          "height": 0
        },
        "outputId": "7257583f-438f-4c28-8e98-515761af7aae"
      },
      "source": [
        "left.join(right)"
      ],
      "execution_count": 109,
      "outputs": [
        {
          "output_type": "execute_result",
          "data": {
            "text/html": [
              "<div>\n",
              "<style scoped>\n",
              "    .dataframe tbody tr th:only-of-type {\n",
              "        vertical-align: middle;\n",
              "    }\n",
              "\n",
              "    .dataframe tbody tr th {\n",
              "        vertical-align: top;\n",
              "    }\n",
              "\n",
              "    .dataframe thead th {\n",
              "        text-align: right;\n",
              "    }\n",
              "</style>\n",
              "<table border=\"1\" class=\"dataframe\">\n",
              "  <thead>\n",
              "    <tr style=\"text-align: right;\">\n",
              "      <th></th>\n",
              "      <th>A</th>\n",
              "      <th>b</th>\n",
              "      <th>c</th>\n",
              "      <th>d</th>\n",
              "    </tr>\n",
              "  </thead>\n",
              "  <tbody>\n",
              "    <tr>\n",
              "      <th>K0</th>\n",
              "      <td>A0</td>\n",
              "      <td>B0</td>\n",
              "      <td>c0</td>\n",
              "      <td>d0</td>\n",
              "    </tr>\n",
              "    <tr>\n",
              "      <th>K1</th>\n",
              "      <td>A1</td>\n",
              "      <td>B1</td>\n",
              "      <td>c1</td>\n",
              "      <td>d1</td>\n",
              "    </tr>\n",
              "    <tr>\n",
              "      <th>K2</th>\n",
              "      <td>A2</td>\n",
              "      <td>B2</td>\n",
              "      <td>c2</td>\n",
              "      <td>d2</td>\n",
              "    </tr>\n",
              "  </tbody>\n",
              "</table>\n",
              "</div>"
            ],
            "text/plain": [
              "     A   b   c   d\n",
              "K0  A0  B0  c0  d0\n",
              "K1  A1  B1  c1  d1\n",
              "K2  A2  B2  c2  d2"
            ]
          },
          "metadata": {
            "tags": []
          },
          "execution_count": 109
        }
      ]
    },
    {
      "cell_type": "code",
      "metadata": {
        "id": "BnaEk-HYmKhh",
        "colab": {
          "base_uri": "https://localhost:8080/",
          "height": 0
        },
        "outputId": "4acda658-70ca-4af9-ce70-43f2c96a3b8e"
      },
      "source": [
        "left.join(right,how='outer')"
      ],
      "execution_count": 110,
      "outputs": [
        {
          "output_type": "execute_result",
          "data": {
            "text/html": [
              "<div>\n",
              "<style scoped>\n",
              "    .dataframe tbody tr th:only-of-type {\n",
              "        vertical-align: middle;\n",
              "    }\n",
              "\n",
              "    .dataframe tbody tr th {\n",
              "        vertical-align: top;\n",
              "    }\n",
              "\n",
              "    .dataframe thead th {\n",
              "        text-align: right;\n",
              "    }\n",
              "</style>\n",
              "<table border=\"1\" class=\"dataframe\">\n",
              "  <thead>\n",
              "    <tr style=\"text-align: right;\">\n",
              "      <th></th>\n",
              "      <th>A</th>\n",
              "      <th>b</th>\n",
              "      <th>c</th>\n",
              "      <th>d</th>\n",
              "    </tr>\n",
              "  </thead>\n",
              "  <tbody>\n",
              "    <tr>\n",
              "      <th>K0</th>\n",
              "      <td>A0</td>\n",
              "      <td>B0</td>\n",
              "      <td>c0</td>\n",
              "      <td>d0</td>\n",
              "    </tr>\n",
              "    <tr>\n",
              "      <th>K1</th>\n",
              "      <td>A1</td>\n",
              "      <td>B1</td>\n",
              "      <td>c1</td>\n",
              "      <td>d1</td>\n",
              "    </tr>\n",
              "    <tr>\n",
              "      <th>K2</th>\n",
              "      <td>A2</td>\n",
              "      <td>B2</td>\n",
              "      <td>c2</td>\n",
              "      <td>d2</td>\n",
              "    </tr>\n",
              "  </tbody>\n",
              "</table>\n",
              "</div>"
            ],
            "text/plain": [
              "     A   b   c   d\n",
              "K0  A0  B0  c0  d0\n",
              "K1  A1  B1  c1  d1\n",
              "K2  A2  B2  c2  d2"
            ]
          },
          "metadata": {
            "tags": []
          },
          "execution_count": 110
        }
      ]
    },
    {
      "cell_type": "markdown",
      "metadata": {
        "id": "mxaOgTo-rz0-"
      },
      "source": [
        "#Loops"
      ]
    },
    {
      "cell_type": "markdown",
      "metadata": {
        "id": "Jvf_bZGIiHxV"
      },
      "source": [
        "***nested if***"
      ]
    },
    {
      "cell_type": "code",
      "metadata": {
        "id": "dYmrPWsiiCv6",
        "colab": {
          "base_uri": "https://localhost:8080/"
        },
        "outputId": "482aa424-a9f6-41b3-bef2-1a0258469908"
      },
      "source": [
        "x=42\n",
        "if x>10:\n",
        "  print(\"value is greater than 10\")\n",
        "  if x>20:\n",
        "    print(\"value is greater than 20\")\n",
        "else:\n",
        "  print(\"value is less than 10\")"
      ],
      "execution_count": 111,
      "outputs": [
        {
          "output_type": "stream",
          "text": [
            "value is greater than 10\n",
            "value is greater than 20\n"
          ],
          "name": "stdout"
        }
      ]
    },
    {
      "cell_type": "markdown",
      "metadata": {
        "id": "W5yV4qH5jNKM"
      },
      "source": [
        "***while loop***"
      ]
    },
    {
      "cell_type": "code",
      "metadata": {
        "id": "WgQLrjepi2Vy",
        "colab": {
          "base_uri": "https://localhost:8080/"
        },
        "outputId": "12318251-3507-48eb-e7d9-cc6b23f6fff0"
      },
      "source": [
        "i=1\n",
        "while i<6 :\n",
        "  print(i)\n",
        "  i+=1\n"
      ],
      "execution_count": 112,
      "outputs": [
        {
          "output_type": "stream",
          "text": [
            "1\n",
            "2\n",
            "3\n",
            "4\n",
            "5\n"
          ],
          "name": "stdout"
        }
      ]
    },
    {
      "cell_type": "code",
      "metadata": {
        "id": "7qpTkGH1jcRV",
        "colab": {
          "base_uri": "https://localhost:8080/"
        },
        "outputId": "7aa97680-f3c1-4a0c-c9a8-a022a1bd3c69"
      },
      "source": [
        "i=1\n",
        "while i<6 :\n",
        "  print(i)\n",
        "  if i==3:\n",
        "    break\n",
        "  i+=1\n"
      ],
      "execution_count": 113,
      "outputs": [
        {
          "output_type": "stream",
          "text": [
            "1\n",
            "2\n",
            "3\n"
          ],
          "name": "stdout"
        }
      ]
    },
    {
      "cell_type": "code",
      "metadata": {
        "id": "MQbre4pFjs9s",
        "colab": {
          "base_uri": "https://localhost:8080/"
        },
        "outputId": "03c21ad3-2a53-42e4-ec66-c15f22954ab9"
      },
      "source": [
        "i=1\n",
        "while i<6 :\n",
        "  print(i)\n",
        "  i+=1\n",
        "else:\n",
        "  print(\"i is no longer less than 6\")"
      ],
      "execution_count": 114,
      "outputs": [
        {
          "output_type": "stream",
          "text": [
            "1\n",
            "2\n",
            "3\n",
            "4\n",
            "5\n",
            "i is no longer less than 6\n"
          ],
          "name": "stdout"
        }
      ]
    },
    {
      "cell_type": "markdown",
      "metadata": {
        "id": "cxN_YjcatyqM"
      },
      "source": [
        "#Numpy"
      ]
    },
    {
      "cell_type": "code",
      "metadata": {
        "id": "0vq7P9bTmMeM",
        "colab": {
          "base_uri": "https://localhost:8080/"
        },
        "outputId": "ab2c700a-a0b3-495b-9da1-c3fdbf5ab0d4"
      },
      "source": [
        "import numpy as np\n",
        "arr = np.array([[1,2,3,4,5],[6,7,8,9,10]])\n",
        "print(arr)\n",
        "print(type(arr))"
      ],
      "execution_count": 115,
      "outputs": [
        {
          "output_type": "stream",
          "text": [
            "[[ 1  2  3  4  5]\n",
            " [ 6  7  8  9 10]]\n",
            "<class 'numpy.ndarray'>\n"
          ],
          "name": "stdout"
        }
      ]
    },
    {
      "cell_type": "code",
      "metadata": {
        "id": "mWq1ZWmxuGr0",
        "colab": {
          "base_uri": "https://localhost:8080/"
        },
        "outputId": "4523f89c-ce30-436f-dab9-0672c9b00aaa"
      },
      "source": [
        "import numpy as np\n",
        "arr = np.array([[[1,2,3],[4,5,6]],[[6,7,8],[9,10,11]]])\n",
        "print(arr)\n",
        "print(type(arr))"
      ],
      "execution_count": 116,
      "outputs": [
        {
          "output_type": "stream",
          "text": [
            "[[[ 1  2  3]\n",
            "  [ 4  5  6]]\n",
            "\n",
            " [[ 6  7  8]\n",
            "  [ 9 10 11]]]\n",
            "<class 'numpy.ndarray'>\n"
          ],
          "name": "stdout"
        }
      ]
    },
    {
      "cell_type": "code",
      "metadata": {
        "id": "Uwz2lQdAuZaf",
        "colab": {
          "base_uri": "https://localhost:8080/"
        },
        "outputId": "db966207-495b-45a7-f7f5-a01ba1502b1e"
      },
      "source": [
        "import numpy as np\n",
        "a=np.array(456)\n",
        "b=np.array([1,2,3,4,5,6,7])\n",
        "c= np.array([[1,2,3,4,5],[6,7,8,9,10]])\n",
        "d = np.array([[[1,2,3],[4,5,6]],[[6,7,8],[9,10,11]]])\n",
        "print(a.ndim)\n",
        "print(b.ndim)\n",
        "print(c.ndim)\n",
        "print(d.ndim)"
      ],
      "execution_count": 117,
      "outputs": [
        {
          "output_type": "stream",
          "text": [
            "0\n",
            "1\n",
            "2\n",
            "3\n"
          ],
          "name": "stdout"
        }
      ]
    },
    {
      "cell_type": "code",
      "metadata": {
        "id": "8S-k5Ls5vrTP",
        "colab": {
          "base_uri": "https://localhost:8080/"
        },
        "outputId": "31d89708-b666-4d19-a7aa-17edbc7498a2"
      },
      "source": [
        "import numpy as np\n",
        "arr=np.array([1,2,3,4,5,6,7])\n",
        "print(arr[2]+arr[4])"
      ],
      "execution_count": 118,
      "outputs": [
        {
          "output_type": "stream",
          "text": [
            "8\n"
          ],
          "name": "stdout"
        }
      ]
    },
    {
      "cell_type": "code",
      "metadata": {
        "id": "U_F7ncjWwYD0",
        "colab": {
          "base_uri": "https://localhost:8080/"
        },
        "outputId": "20eef607-fc53-4810-999c-8e808f040399"
      },
      "source": [
        "import numpy as np\n",
        "c=np.array([[[1,2,3],[4,5,6]],[[6,7,8],[9,10,11]]])\n",
        "print(c)\n",
        "print('3rd element on 2nd array of 1st array:',c[0,1,2])"
      ],
      "execution_count": 119,
      "outputs": [
        {
          "output_type": "stream",
          "text": [
            "[[[ 1  2  3]\n",
            "  [ 4  5  6]]\n",
            "\n",
            " [[ 6  7  8]\n",
            "  [ 9 10 11]]]\n",
            "3rd element on 2nd array of 1st array: 6\n"
          ],
          "name": "stdout"
        }
      ]
    },
    {
      "cell_type": "code",
      "metadata": {
        "id": "74kAat-XxIGW",
        "colab": {
          "base_uri": "https://localhost:8080/"
        },
        "outputId": "b6da8433-a2bb-4678-bd66-82cd48c66ea8"
      },
      "source": [
        "import numpy as np\n",
        "c=np.array([[1,2,3,4,5],[6,7,8,9,10]])\n",
        "print('last element of 2nd dim:', c[1,-1])"
      ],
      "execution_count": 120,
      "outputs": [
        {
          "output_type": "stream",
          "text": [
            "last element of 2nd dim: 10\n"
          ],
          "name": "stdout"
        }
      ]
    },
    {
      "cell_type": "code",
      "metadata": {
        "id": "Fyg1_tXgy4-8",
        "colab": {
          "base_uri": "https://localhost:8080/"
        },
        "outputId": "1c3179b3-b256-4a51-9f0a-f10fe0cf61f0"
      },
      "source": [
        "import numpy as np\n",
        "c=np.array([1,2,3,4,5,6,7,8,9,10])\n",
        "print(c[1:6])\n",
        "print(c[1:5])"
      ],
      "execution_count": 121,
      "outputs": [
        {
          "output_type": "stream",
          "text": [
            "[2 3 4 5 6]\n",
            "[2 3 4 5]\n"
          ],
          "name": "stdout"
        }
      ]
    },
    {
      "cell_type": "code",
      "metadata": {
        "id": "DbAlkBp1zPkB",
        "colab": {
          "base_uri": "https://localhost:8080/"
        },
        "outputId": "f0579dbd-d7d3-4df6-9c1f-92a568818ff9"
      },
      "source": [
        "import numpy as np\n",
        "c=np.array([1,2,3,4,5,6,7,8,9,10])\n",
        "print(c[5:])"
      ],
      "execution_count": 122,
      "outputs": [
        {
          "output_type": "stream",
          "text": [
            "[ 6  7  8  9 10]\n"
          ],
          "name": "stdout"
        }
      ]
    },
    {
      "cell_type": "code",
      "metadata": {
        "id": "ETN0C3MHzqka",
        "colab": {
          "base_uri": "https://localhost:8080/"
        },
        "outputId": "92b08a8d-ba0e-4ff6-d4c7-49fff2eb9e55"
      },
      "source": [
        "import numpy as np\n",
        "c=np.array([1,2,3,4,5,6,7,8,9,10])\n",
        "print(c[:8])"
      ],
      "execution_count": 123,
      "outputs": [
        {
          "output_type": "stream",
          "text": [
            "[1 2 3 4 5 6 7 8]\n"
          ],
          "name": "stdout"
        }
      ]
    },
    {
      "cell_type": "code",
      "metadata": {
        "id": "gezamqpiz0uf",
        "colab": {
          "base_uri": "https://localhost:8080/"
        },
        "outputId": "9f58b9fa-af46-4265-848d-7115d70f2930"
      },
      "source": [
        "import numpy as np\n",
        "c=np.array([1,2,3,4,5,6,7,8,9,10])\n",
        "print(c[1:-2])"
      ],
      "execution_count": 124,
      "outputs": [
        {
          "output_type": "stream",
          "text": [
            "[2 3 4 5 6 7 8]\n"
          ],
          "name": "stdout"
        }
      ]
    },
    {
      "cell_type": "code",
      "metadata": {
        "id": "Ko2PWDS7z5QC",
        "colab": {
          "base_uri": "https://localhost:8080/"
        },
        "outputId": "e69ae868-62db-474f-84e7-98f1cf47ba8f"
      },
      "source": [
        "import numpy as np\n",
        "c=np.array([1,2,3,4,5,6,7,8,9,10])\n",
        "print(c[-3:-1])"
      ],
      "execution_count": 125,
      "outputs": [
        {
          "output_type": "stream",
          "text": [
            "[8 9]\n"
          ],
          "name": "stdout"
        }
      ]
    },
    {
      "cell_type": "code",
      "metadata": {
        "id": "XdoPP0Kiz9ni",
        "colab": {
          "base_uri": "https://localhost:8080/"
        },
        "outputId": "75946240-f31f-4085-9ac2-714500959f77"
      },
      "source": [
        "import numpy as np\n",
        "c=np.array([1,2,3,4,5,6,7,8,9,10])\n",
        "print(c[1:5:3])"
      ],
      "execution_count": 126,
      "outputs": [
        {
          "output_type": "stream",
          "text": [
            "[2 5]\n"
          ],
          "name": "stdout"
        }
      ]
    },
    {
      "cell_type": "code",
      "metadata": {
        "id": "maPX5Xv00Rtj",
        "colab": {
          "base_uri": "https://localhost:8080/"
        },
        "outputId": "3f96040d-2353-401b-e34e-06e35acc922e"
      },
      "source": [
        "import numpy as np\n",
        "c=np.array([1,2,3,4,5,6,7,8,9,10])\n",
        "print(c[1:5:2])"
      ],
      "execution_count": 127,
      "outputs": [
        {
          "output_type": "stream",
          "text": [
            "[2 4]\n"
          ],
          "name": "stdout"
        }
      ]
    },
    {
      "cell_type": "code",
      "metadata": {
        "id": "qCGGifN10abo",
        "colab": {
          "base_uri": "https://localhost:8080/"
        },
        "outputId": "23f0863e-779c-41c5-f81f-1028bf9261aa"
      },
      "source": [
        "import numpy as np\n",
        "c=np.array([1,2,3,4,5,6,7,8,9,10])\n",
        "print(c[::2])"
      ],
      "execution_count": 128,
      "outputs": [
        {
          "output_type": "stream",
          "text": [
            "[1 3 5 7 9]\n"
          ],
          "name": "stdout"
        }
      ]
    },
    {
      "cell_type": "code",
      "metadata": {
        "id": "LI3wOeV2006U",
        "colab": {
          "base_uri": "https://localhost:8080/"
        },
        "outputId": "9f551dfc-50eb-4e8a-a58f-8aa6e82c8b06"
      },
      "source": [
        "import numpy as np\n",
        "c=np.array([[1,2,3,4,5],[6,7,8,9,10]])\n",
        "print(c[0:4,0:3])"
      ],
      "execution_count": 129,
      "outputs": [
        {
          "output_type": "stream",
          "text": [
            "[[1 2 3]\n",
            " [6 7 8]]\n"
          ],
          "name": "stdout"
        }
      ]
    },
    {
      "cell_type": "code",
      "metadata": {
        "id": "ZI5I8NNy1dsb",
        "colab": {
          "base_uri": "https://localhost:8080/"
        },
        "outputId": "de673e28-c1ed-4662-a7f7-db94bffa754c"
      },
      "source": [
        "import numpy as np\n",
        "c=np.array([1,2,3,4,5,6,7,8,9,10])\n",
        "print(c.dtype)"
      ],
      "execution_count": 130,
      "outputs": [
        {
          "output_type": "stream",
          "text": [
            "int64\n"
          ],
          "name": "stdout"
        }
      ]
    },
    {
      "cell_type": "code",
      "metadata": {
        "id": "7VDLb47o2X8x",
        "colab": {
          "base_uri": "https://localhost:8080/"
        },
        "outputId": "ae038770-b756-453f-9a51-e7c1f96e9b42"
      },
      "source": [
        "import numpy as np\n",
        "c=np.array(['madhu','sai','mansi','payal','ashwini','rahul'])\n",
        "print(c.dtype)"
      ],
      "execution_count": 131,
      "outputs": [
        {
          "output_type": "stream",
          "text": [
            "<U7\n"
          ],
          "name": "stdout"
        }
      ]
    },
    {
      "cell_type": "code",
      "metadata": {
        "id": "llkDWy8_2sGw",
        "colab": {
          "base_uri": "https://localhost:8080/"
        },
        "outputId": "9ab846fa-74cb-4769-a57c-fe66f5cff769"
      },
      "source": [
        "import numpy as np\n",
        "c=np.array([1.23,2.34,3.44,4.44])\n",
        "newarray=c.astype(int)\n",
        "print(newarray)\n",
        "print(newarray.dtype)"
      ],
      "execution_count": 132,
      "outputs": [
        {
          "output_type": "stream",
          "text": [
            "[1 2 3 4]\n",
            "int64\n"
          ],
          "name": "stdout"
        }
      ]
    },
    {
      "cell_type": "code",
      "metadata": {
        "id": "qwg9d-J651XM",
        "colab": {
          "base_uri": "https://localhost:8080/"
        },
        "outputId": "9ba44ef4-599e-4cbe-cce4-e5ac799aee87"
      },
      "source": [
        "import numpy as np\n",
        "c=np.array([1.23,2.34,3.44,4.44])\n",
        "newarray=c.astype(bool)\n",
        "print(newarray)\n",
        "print(newarray.dtype)"
      ],
      "execution_count": 133,
      "outputs": [
        {
          "output_type": "stream",
          "text": [
            "[ True  True  True  True]\n",
            "bool\n"
          ],
          "name": "stdout"
        }
      ]
    },
    {
      "cell_type": "code",
      "metadata": {
        "id": "mBvEFBdf56d3",
        "colab": {
          "base_uri": "https://localhost:8080/"
        },
        "outputId": "7a4acb10-e9ec-4576-b79d-bb97651be84d"
      },
      "source": [
        "import numpy as np\n",
        "c=np.array([1.23,2.34,3.44,4.44])\n",
        "x=c.copy()\n",
        "print(x)\n",
        "print(x.dtype)"
      ],
      "execution_count": 134,
      "outputs": [
        {
          "output_type": "stream",
          "text": [
            "[1.23 2.34 3.44 4.44]\n",
            "float64\n"
          ],
          "name": "stdout"
        }
      ]
    },
    {
      "cell_type": "code",
      "metadata": {
        "id": "L2XoDs6N6Hrh",
        "colab": {
          "base_uri": "https://localhost:8080/"
        },
        "outputId": "27736ecd-d237-443b-c630-ac948e9792da"
      },
      "source": [
        "import numpy as np\n",
        "c=np.array([1.23,2.34,3.44,4.44])\n",
        "x=c.view()\n",
        "x[0]=34\n",
        "print(x)\n",
        "print(x.dtype)"
      ],
      "execution_count": 135,
      "outputs": [
        {
          "output_type": "stream",
          "text": [
            "[34.    2.34  3.44  4.44]\n",
            "float64\n"
          ],
          "name": "stdout"
        }
      ]
    },
    {
      "cell_type": "code",
      "metadata": {
        "id": "0F6Jk90u67dK",
        "colab": {
          "base_uri": "https://localhost:8080/"
        },
        "outputId": "20d1aa2c-c96b-43c3-99cb-717b213348b9"
      },
      "source": [
        "import numpy as np\n",
        "c=np.array([1.23,2.34,3.44,4.44])\n",
        "x=c.view()#print the value of base attribute at the end to check if ana rray owns its data or not\n",
        "y=c.copy()\n",
        "print(x)\n",
        "print(y)\n",
        "print(x.base)\n",
        "print(y.base)\n",
        "print(x.dtype)"
      ],
      "execution_count": 136,
      "outputs": [
        {
          "output_type": "stream",
          "text": [
            "[1.23 2.34 3.44 4.44]\n",
            "[1.23 2.34 3.44 4.44]\n",
            "[1.23 2.34 3.44 4.44]\n",
            "None\n",
            "float64\n"
          ],
          "name": "stdout"
        }
      ]
    },
    {
      "cell_type": "code",
      "metadata": {
        "id": "LiKU7dtA7gX3",
        "colab": {
          "base_uri": "https://localhost:8080/"
        },
        "outputId": "1f96c011-1f0a-4566-c8d5-05c4c77f8475"
      },
      "source": [
        "import numpy as np\n",
        "c=np.array([1.23,2.34,3.44,4.44])\n",
        "y=np.array([[1,2,3,4,5],[6,7,8,9,10,]])\n",
        "print(c.shape)\n",
        "print(y.shape)"
      ],
      "execution_count": 137,
      "outputs": [
        {
          "output_type": "stream",
          "text": [
            "(4,)\n",
            "(2, 5)\n"
          ],
          "name": "stdout"
        }
      ]
    },
    {
      "cell_type": "code",
      "metadata": {
        "id": "NCsvdP-B8TBs",
        "colab": {
          "base_uri": "https://localhost:8080/"
        },
        "outputId": "f0be49bb-ed7b-4234-f054-a2da92915026"
      },
      "source": [
        "import numpy as np\n",
        "c=np.array([1,2,3,4,5,6,7,8,9,10,11,12])\n",
        "newarray=c.reshape(4,3)\n",
        "print(c)\n",
        "print(newarray)"
      ],
      "execution_count": 138,
      "outputs": [
        {
          "output_type": "stream",
          "text": [
            "[ 1  2  3  4  5  6  7  8  9 10 11 12]\n",
            "[[ 1  2  3]\n",
            " [ 4  5  6]\n",
            " [ 7  8  9]\n",
            " [10 11 12]]\n"
          ],
          "name": "stdout"
        }
      ]
    },
    {
      "cell_type": "code",
      "metadata": {
        "id": "uLro1rXc811f",
        "colab": {
          "base_uri": "https://localhost:8080/"
        },
        "outputId": "256ad88b-830d-4c54-d4c5-fa95f7ee965d"
      },
      "source": [
        "\n",
        "import numpy as np\n",
        "c=np.array([1,2,3,4,5,6,7,8,9,10,11,12])\n",
        "newarray=c.reshape(2,3,2)\n",
        "print(c)\n",
        "print(newarray)"
      ],
      "execution_count": 139,
      "outputs": [
        {
          "output_type": "stream",
          "text": [
            "[ 1  2  3  4  5  6  7  8  9 10 11 12]\n",
            "[[[ 1  2]\n",
            "  [ 3  4]\n",
            "  [ 5  6]]\n",
            "\n",
            " [[ 7  8]\n",
            "  [ 9 10]\n",
            "  [11 12]]]\n"
          ],
          "name": "stdout"
        }
      ]
    },
    {
      "cell_type": "code",
      "metadata": {
        "id": "wxg28Swp9sml",
        "colab": {
          "base_uri": "https://localhost:8080/"
        },
        "outputId": "5ea6ac74-e6da-4dc4-e4f2-0323b8119c7e"
      },
      "source": [
        "import numpy as np\n",
        "arr=np.array([[1,2,3],[4,5,6]])\n",
        "newarray=arr.reshape(-1)\n",
        "print(newarray)"
      ],
      "execution_count": 140,
      "outputs": [
        {
          "output_type": "stream",
          "text": [
            "[1 2 3 4 5 6]\n"
          ],
          "name": "stdout"
        }
      ]
    },
    {
      "cell_type": "code",
      "metadata": {
        "id": "QIqW866st-LJ",
        "colab": {
          "base_uri": "https://localhost:8080/"
        },
        "outputId": "e3ff19be-ce24-427d-97a5-8aeef3036d14"
      },
      "source": [
        "\n",
        "import numpy as np\n",
        "arr1=np.array([1,2,3])\n",
        "arr2=np.array([4,5,6])\n",
        "newarray=np.concatenate((arr1,arr2))\n",
        "print(arr1)\n",
        "print(arr2)\n",
        "print(newarray)"
      ],
      "execution_count": 141,
      "outputs": [
        {
          "output_type": "stream",
          "text": [
            "[1 2 3]\n",
            "[4 5 6]\n",
            "[1 2 3 4 5 6]\n"
          ],
          "name": "stdout"
        }
      ]
    },
    {
      "cell_type": "code",
      "metadata": {
        "id": "npuQjcnXu3le",
        "colab": {
          "base_uri": "https://localhost:8080/"
        },
        "outputId": "d1d923c7-4256-4d62-8189-292f8c54c059"
      },
      "source": [
        "import numpy as np\n",
        "arr1=np.array([1,2,3])\n",
        "arr2=np.array([4,5,6])\n",
        "newarray=np.stack((arr1,arr2),axis=0)\n",
        "print(arr1)\n",
        "print(arr2)\n",
        "print(newarray)"
      ],
      "execution_count": 142,
      "outputs": [
        {
          "output_type": "stream",
          "text": [
            "[1 2 3]\n",
            "[4 5 6]\n",
            "[[1 2 3]\n",
            " [4 5 6]]\n"
          ],
          "name": "stdout"
        }
      ]
    },
    {
      "cell_type": "code",
      "metadata": {
        "id": "24oL3a__v2Hf",
        "colab": {
          "base_uri": "https://localhost:8080/"
        },
        "outputId": "fe610bb8-c5bb-4c4b-c033-8355ed528451"
      },
      "source": [
        "import numpy as np\n",
        "arr1=np.array([1,2,3])\n",
        "arr2=np.array([4,5,6])\n",
        "newarray=np.stack((arr1,arr2),axis=1)\n",
        "print(arr1)\n",
        "print(arr2)\n",
        "print(newarray)"
      ],
      "execution_count": 143,
      "outputs": [
        {
          "output_type": "stream",
          "text": [
            "[1 2 3]\n",
            "[4 5 6]\n",
            "[[1 4]\n",
            " [2 5]\n",
            " [3 6]]\n"
          ],
          "name": "stdout"
        }
      ]
    },
    {
      "cell_type": "code",
      "metadata": {
        "id": "3HXuS1WZwDsy",
        "colab": {
          "base_uri": "https://localhost:8080/"
        },
        "outputId": "108dc0fa-162f-419c-85e4-3cfe0efe8f3d"
      },
      "source": [
        "import numpy as np\n",
        "arr1=np.array([1,2,3])\n",
        "arr2=np.array([4,5,6])\n",
        "newarray=np.hstack((arr1,arr2))\n",
        "print(arr1)\n",
        "print(arr2)\n",
        "print(newarray)"
      ],
      "execution_count": 144,
      "outputs": [
        {
          "output_type": "stream",
          "text": [
            "[1 2 3]\n",
            "[4 5 6]\n",
            "[1 2 3 4 5 6]\n"
          ],
          "name": "stdout"
        }
      ]
    },
    {
      "cell_type": "code",
      "metadata": {
        "id": "7hOkdQLxwSQe",
        "colab": {
          "base_uri": "https://localhost:8080/"
        },
        "outputId": "6927cdc4-2630-44a2-b806-a6461cd346ba"
      },
      "source": [
        "import numpy as np\n",
        "arr1=np.array([1,2,3])\n",
        "arr2=np.array([4,5,6])\n",
        "newarray=np.vstack((arr1,arr2))\n",
        "print(arr1)\n",
        "print(arr2)\n",
        "print(newarray)"
      ],
      "execution_count": 145,
      "outputs": [
        {
          "output_type": "stream",
          "text": [
            "[1 2 3]\n",
            "[4 5 6]\n",
            "[[1 2 3]\n",
            " [4 5 6]]\n"
          ],
          "name": "stdout"
        }
      ]
    },
    {
      "cell_type": "code",
      "metadata": {
        "id": "CWxemFxvwcwv",
        "colab": {
          "base_uri": "https://localhost:8080/"
        },
        "outputId": "621ae82a-1a0a-4e27-e155-2385bfad9945"
      },
      "source": [
        "import numpy as np\n",
        "arr1=np.array([1,2,3])\n",
        "arr2=np.array([4,5,6])\n",
        "newarray=np.dstack((arr1,arr2))\n",
        "print(newarray)"
      ],
      "execution_count": 146,
      "outputs": [
        {
          "output_type": "stream",
          "text": [
            "[[[1 4]\n",
            "  [2 5]\n",
            "  [3 6]]]\n"
          ],
          "name": "stdout"
        }
      ]
    },
    {
      "cell_type": "markdown",
      "metadata": {
        "id": "WZqAQzqFHnJy"
      },
      "source": [
        "##Split the array##"
      ]
    },
    {
      "cell_type": "code",
      "metadata": {
        "id": "zR-_FaY-wtDm",
        "colab": {
          "base_uri": "https://localhost:8080/"
        },
        "outputId": "7a490802-0889-4576-947b-239e7058c11a"
      },
      "source": [
        "import numpy as np\n",
        "arr1=np.array([1,2,3,4,5,6])\n",
        "newarray=np.array_split(arr1,3)\n",
        "print(arr1)\n",
        "print(newarray)"
      ],
      "execution_count": 147,
      "outputs": [
        {
          "output_type": "stream",
          "text": [
            "[1 2 3 4 5 6]\n",
            "[array([1, 2]), array([3, 4]), array([5, 6])]\n"
          ],
          "name": "stdout"
        }
      ]
    },
    {
      "cell_type": "code",
      "metadata": {
        "id": "JcfFLTrixS_x",
        "colab": {
          "base_uri": "https://localhost:8080/"
        },
        "outputId": "080ec3d4-a97d-4ef5-f441-718f16e7fd0f"
      },
      "source": [
        "import numpy as np\n",
        "arr1=np.array([1,2,3,4,5,6])\n",
        "newarray=np.array_split(arr1,4)\n",
        "print(arr1)\n",
        "print(newarray)"
      ],
      "execution_count": 148,
      "outputs": [
        {
          "output_type": "stream",
          "text": [
            "[1 2 3 4 5 6]\n",
            "[array([1, 2]), array([3, 4]), array([5]), array([6])]\n"
          ],
          "name": "stdout"
        }
      ]
    },
    {
      "cell_type": "code",
      "metadata": {
        "id": "xJ2q3Wz3xius",
        "colab": {
          "base_uri": "https://localhost:8080/"
        },
        "outputId": "d6273b2a-6585-4a46-878f-bf3041e39f29"
      },
      "source": [
        "import numpy as np\n",
        "arr=np.array([1,2,3,4,5,6])\n",
        "newarray=np.array_split(arr,3)\n",
        "print(newarray[0])\n",
        "print(newarray[1])\n",
        "print(newarray[2])"
      ],
      "execution_count": 149,
      "outputs": [
        {
          "output_type": "stream",
          "text": [
            "[1 2]\n",
            "[3 4]\n",
            "[5 6]\n"
          ],
          "name": "stdout"
        }
      ]
    },
    {
      "cell_type": "code",
      "metadata": {
        "id": "CJIag82o0ET3",
        "colab": {
          "base_uri": "https://localhost:8080/"
        },
        "outputId": "82ea0578-dadf-4d5c-ec3a-b83729f68330"
      },
      "source": [
        "import numpy as np\n",
        "arr=np.array([1,2,3,4,5,4,4])\n",
        "newarray=np.where(arr==3)\n",
        "print(newarray)"
      ],
      "execution_count": 150,
      "outputs": [
        {
          "output_type": "stream",
          "text": [
            "(array([2]),)\n"
          ],
          "name": "stdout"
        }
      ]
    },
    {
      "cell_type": "code",
      "metadata": {
        "id": "EBlqfm3QyRum",
        "colab": {
          "base_uri": "https://localhost:8080/"
        },
        "outputId": "16b3fdc3-2ece-45de-cfff-131c70d96544"
      },
      "source": [
        "import numpy as np\n",
        "arr=np.array([1,2,3,4,5,4,4])\n",
        "newarray=np.where(arr==4)\n",
        "print(newarray)"
      ],
      "execution_count": 151,
      "outputs": [
        {
          "output_type": "stream",
          "text": [
            "(array([3, 5, 6]),)\n"
          ],
          "name": "stdout"
        }
      ]
    },
    {
      "cell_type": "code",
      "metadata": {
        "id": "CFQlAuz_z3-Z",
        "colab": {
          "base_uri": "https://localhost:8080/"
        },
        "outputId": "aedd9848-8f89-4cd5-a365-865e808958d8"
      },
      "source": [
        "import numpy as np\n",
        "arr=np.array([1,2,3,4,5,6,7,8])\n",
        "newarray=np.where(arr%2==0)\n",
        "print(newarray)"
      ],
      "execution_count": 152,
      "outputs": [
        {
          "output_type": "stream",
          "text": [
            "(array([1, 3, 5, 7]),)\n"
          ],
          "name": "stdout"
        }
      ]
    },
    {
      "cell_type": "code",
      "metadata": {
        "id": "tDLmACO-0e27",
        "colab": {
          "base_uri": "https://localhost:8080/"
        },
        "outputId": "1ca7aaf6-3328-4b0a-b024-7869eece3e2f"
      },
      "source": [
        "import numpy as np\n",
        "arr=np.array([1,2,3,4,5,6,7,8])\n",
        "newarray=np.where(arr%2==1)\n",
        "print(newarray)"
      ],
      "execution_count": 153,
      "outputs": [
        {
          "output_type": "stream",
          "text": [
            "(array([0, 2, 4, 6]),)\n"
          ],
          "name": "stdout"
        }
      ]
    },
    {
      "cell_type": "code",
      "metadata": {
        "id": "ETeVdoXG0mFx",
        "colab": {
          "base_uri": "https://localhost:8080/"
        },
        "outputId": "6d6c67bc-6ab0-47bb-ae9d-60b46f308225"
      },
      "source": [
        "import numpy as np\n",
        "arr=np.array([6,7,8,9])\n",
        "newarray=np.searchsorted(arr,7)\n",
        "print(newarray)"
      ],
      "execution_count": 154,
      "outputs": [
        {
          "output_type": "stream",
          "text": [
            "1\n"
          ],
          "name": "stdout"
        }
      ]
    },
    {
      "cell_type": "code",
      "metadata": {
        "id": "eCGo8WmT1Odb",
        "colab": {
          "base_uri": "https://localhost:8080/"
        },
        "outputId": "c9025500-c8f5-475c-9a28-dbd2be2a1ac3"
      },
      "source": [
        "import numpy as np\n",
        "arr=np.array([1,2,3,4,5,6,7,8])\n",
        "newarray=np.where(arr==7)\n",
        "print(newarray)"
      ],
      "execution_count": 155,
      "outputs": [
        {
          "output_type": "stream",
          "text": [
            "(array([6]),)\n"
          ],
          "name": "stdout"
        }
      ]
    },
    {
      "cell_type": "code",
      "metadata": {
        "id": "hWGUcPre1sLq",
        "colab": {
          "base_uri": "https://localhost:8080/"
        },
        "outputId": "d11d5f90-b353-495f-baa2-8397ca4c9004"
      },
      "source": [
        "import numpy as np\n",
        "arr=np.array([6,7,8,9])\n",
        "newarray=np.searchsorted(arr,7,side='right')\n",
        "print(newarray)"
      ],
      "execution_count": 156,
      "outputs": [
        {
          "output_type": "stream",
          "text": [
            "2\n"
          ],
          "name": "stdout"
        }
      ]
    },
    {
      "cell_type": "code",
      "metadata": {
        "id": "cSXorsUi19x_",
        "colab": {
          "base_uri": "https://localhost:8080/"
        },
        "outputId": "12689f86-d334-4ef5-c084-2d416e6c78a6"
      },
      "source": [
        "import numpy as np\n",
        "arr=np.array([41,42,43,44])\n",
        "x=arr[[True,False,True,False]]\n",
        "print(x)"
      ],
      "execution_count": 157,
      "outputs": [
        {
          "output_type": "stream",
          "text": [
            "[41 43]\n"
          ],
          "name": "stdout"
        }
      ]
    },
    {
      "cell_type": "code",
      "metadata": {
        "id": "1fMu1UIu232G",
        "colab": {
          "base_uri": "https://localhost:8080/"
        },
        "outputId": "16e833c6-5483-43fd-863c-1c74a30d4fa3"
      },
      "source": [
        "import numpy as np\n",
        "arr=np.array([1,2,3,5])\n",
        "x=arr[[True,True,True,False]]\n",
        "print(x)"
      ],
      "execution_count": 158,
      "outputs": [
        {
          "output_type": "stream",
          "text": [
            "[1 2 3]\n"
          ],
          "name": "stdout"
        }
      ]
    },
    {
      "cell_type": "code",
      "metadata": {
        "id": "uUvjfNE43MBo",
        "colab": {
          "base_uri": "https://localhost:8080/"
        },
        "outputId": "1e1e6822-c646-40d8-9ff8-f0d2324b99a1"
      },
      "source": [
        "import numpy as np\n",
        "arr=np.array([1,2,3,5])\n",
        "filter_arr=arr>2\n",
        "newarray=arr[filter_arr]\n",
        "print(filter_arr)\n",
        "print(newarray)"
      ],
      "execution_count": 159,
      "outputs": [
        {
          "output_type": "stream",
          "text": [
            "[False False  True  True]\n",
            "[3 5]\n"
          ],
          "name": "stdout"
        }
      ]
    },
    {
      "cell_type": "markdown",
      "metadata": {
        "id": "gzWLlqEmkiF5"
      },
      "source": [
        "# ***Python program to find the L.C.M of 2 input numbers***"
      ]
    },
    {
      "cell_type": "code",
      "metadata": {
        "id": "PbKB_u_7kO3I",
        "colab": {
          "base_uri": "https://localhost:8080/"
        },
        "outputId": "0a007930-3b73-44dc-9289-124223c0c3ff"
      },
      "source": [
        "def lcm(x,y):\n",
        "  if x>y:\n",
        "    greater = x\n",
        "  else:\n",
        "    greater=y\n",
        "  while(True):\n",
        "    if ((greater%x==0) and (greater%y==0)):\n",
        "      lcm=greater\n",
        "      break\n",
        "    greater+=1\n",
        "  return lcm\n",
        "num1=int(input(\"enter first number:\"))\n",
        "num2=int(input(\"enter second number:\"))\n",
        "print(\"lcm of\",num1,\"and\",num2,\"is\",lcm(num1,num2))"
      ],
      "execution_count": 160,
      "outputs": [
        {
          "output_type": "stream",
          "text": [
            "enter first number:4\n",
            "enter second number:8\n",
            "lcm of 4 and 8 is 8\n"
          ],
          "name": "stdout"
        }
      ]
    },
    {
      "cell_type": "markdown",
      "metadata": {
        "id": "X_r8A9C6r_FJ"
      },
      "source": [
        "#Python program for finding H.C.F of two input numbers"
      ]
    },
    {
      "cell_type": "code",
      "metadata": {
        "id": "0hNzIY5omcCJ",
        "colab": {
          "base_uri": "https://localhost:8080/"
        },
        "outputId": "8d68cb8c-c05a-4ebe-92d1-22032f9cb49e"
      },
      "source": [
        "#python program for finding H.C.F of two input numbers\n",
        "def computeHCF(x,y):\n",
        "\n",
        "\n",
        "#choose the smaller number\n",
        "  if x>y:\n",
        "    smaller=y\n",
        "  else:\n",
        "    smaller=x\n",
        "  for i in range(1,smaller+1):\n",
        "    if ((x%i)==0) and ((y%i)==0):\n",
        "      hcf=i\n",
        "  return hcf\n",
        "num1=int(input(\"enter first number\"))\n",
        "num2=int(input(\"enter second number\"))\n",
        "print(\"HCF of\",num1,\"and\",num2,\"is\",computeHCF(num1,num2))"
      ],
      "execution_count": 161,
      "outputs": [
        {
          "output_type": "stream",
          "text": [
            "enter first number10\n",
            "enter second number20\n",
            "HCF of 10 and 20 is 10\n"
          ],
          "name": "stdout"
        }
      ]
    },
    {
      "cell_type": "code",
      "metadata": {
        "id": "JJG3njz5o1sM",
        "colab": {
          "base_uri": "https://localhost:8080/"
        },
        "outputId": "29de9cb8-e4cb-47d9-b5a4-0efc2a1e4ac6"
      },
      "source": [
        "computeHCF(5,10)"
      ],
      "execution_count": 162,
      "outputs": [
        {
          "output_type": "execute_result",
          "data": {
            "text/plain": [
              "5"
            ]
          },
          "metadata": {
            "tags": []
          },
          "execution_count": 162
        }
      ]
    }
  ]
}